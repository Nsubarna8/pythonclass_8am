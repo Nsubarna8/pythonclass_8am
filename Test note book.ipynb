{
 "cells": [
  {
   "cell_type": "code",
   "execution_count": 3,
   "id": "939d3f2b",
   "metadata": {},
   "outputs": [
    {
     "name": "stdout",
     "output_type": "stream",
     "text": [
      "Enter Physic = 1\n",
      "Enter Chemistry = 1\n",
      "Enter Math = 1\n",
      "Enter English = 1\n",
      "Enter Nepali = 1\n",
      "The total value is  5\n",
      "The percentage is  1.0\n",
      "The grade is  F\n"
     ]
    }
   ],
   "source": [
    "Physic = int(input(\"Enter Physic = \"))\n",
    "Chemistry = int(input(\"Enter Chemistry = \"))\n",
    "Math = int(input(\"Enter Math = \"))\n",
    "English = int(input(\"Enter English = \"))\n",
    "Nepali = int(input(\"Enter Nepali = \"))\n",
    "\n",
    "total = Physic + Chemistry + Math + English + Nepali \n",
    "percentage = total/5\n",
    "\n",
    "if percentage >= 80:\n",
    "    grade = \"A\"\n",
    "elif percentage >= 60:\n",
    "    grade = \"B\"\n",
    "elif percentage >= 45:\n",
    "    grade = \"C\"\n",
    "else:\n",
    "    grade = \"F\"\n",
    "    \n",
    "print(\"The total value is \",total)\n",
    "print(\"The percentage is \",percentage)\n",
    "print(\"The grade is \",grade)"
   ]
  },
  {
   "cell_type": "code",
   "execution_count": 3,
   "id": "700f5885",
   "metadata": {},
   "outputs": [
    {
     "name": "stdout",
     "output_type": "stream",
     "text": [
      "Enter a = 10\n",
      "Enter b = 20\n",
      "Enter + or - or * or / 9\n",
      "Enter valid Operator\n"
     ]
    }
   ],
   "source": [
    "a = int(input(\"Enter a = \"))\n",
    "b = int(input(\"Enter b = \"))\n",
    "o = input(\"Enter + or - or * or / \")\n",
    "if o == \"+\":\n",
    "    print(a+b)\n",
    "elif o == \"-\":\n",
    "    print(a-b)\n",
    "elif o == \"*\" :\n",
    "    print(a*b)\n",
    "elif o == \"/\" and (b !=0):\n",
    "    print(a/b)\n",
    "elif o == \"/\" and (b ==0):\n",
    "    print(\"The value cannot be zero \")\n",
    "else:\n",
    "    print(\"Enter valid Operator\")"
   ]
  },
  {
   "cell_type": "code",
   "execution_count": 1,
   "id": "94a0c8ae",
   "metadata": {},
   "outputs": [
    {
     "name": "stdout",
     "output_type": "stream",
     "text": [
      "Hello world\n"
     ]
    }
   ],
   "source": [
    "print(\"Hello world\")"
   ]
  },
  {
   "cell_type": "code",
   "execution_count": 3,
   "id": "b6420ed6",
   "metadata": {},
   "outputs": [
    {
     "name": "stdout",
     "output_type": "stream",
     "text": [
      "Enter name name = Tony Stark\n",
      "Enter age = 24\n",
      "Tony Stark24\n"
     ]
    }
   ],
   "source": [
    "name = input(\"Enter name name = \")\n",
    "age = int(input(\"Enter age = \"))\n",
    "print( name+ str(age))"
   ]
  },
  {
   "cell_type": "code",
   "execution_count": 4,
   "id": "74096495",
   "metadata": {},
   "outputs": [
    {
     "name": "stdout",
     "output_type": "stream",
     "text": [
      "TONY STARK\n"
     ]
    }
   ],
   "source": [
    "print(name.upper())"
   ]
  },
  {
   "cell_type": "code",
   "execution_count": 5,
   "id": "2ea91516",
   "metadata": {},
   "outputs": [
    {
     "name": "stdout",
     "output_type": "stream",
     "text": [
      "tony stark\n"
     ]
    }
   ],
   "source": [
    "print(name.lower())"
   ]
  },
  {
   "cell_type": "code",
   "execution_count": 6,
   "id": "7285c8df",
   "metadata": {},
   "outputs": [
    {
     "name": "stdout",
     "output_type": "stream",
     "text": [
      "5\n"
     ]
    }
   ],
   "source": [
    "print(name.find(\"S\"))"
   ]
  },
  {
   "cell_type": "code",
   "execution_count": 7,
   "id": "afedda85",
   "metadata": {},
   "outputs": [
    {
     "name": "stdout",
     "output_type": "stream",
     "text": [
      "Iron Man\n"
     ]
    }
   ],
   "source": [
    "print(name.replace(\"Tony Stark\",\"Iron Man\"))"
   ]
  },
  {
   "cell_type": "code",
   "execution_count": 8,
   "id": "176dd20c",
   "metadata": {},
   "outputs": [
    {
     "name": "stdout",
     "output_type": "stream",
     "text": [
      "Tony Stark\n"
     ]
    }
   ],
   "source": [
    "print(name)"
   ]
  },
  {
   "cell_type": "code",
   "execution_count": 9,
   "id": "47a55c28",
   "metadata": {},
   "outputs": [
    {
     "name": "stdout",
     "output_type": "stream",
     "text": [
      "True\n"
     ]
    }
   ],
   "source": [
    "print(\"T\" in name )"
   ]
  },
  {
   "cell_type": "code",
   "execution_count": 10,
   "id": "66daf957",
   "metadata": {},
   "outputs": [
    {
     "name": "stdout",
     "output_type": "stream",
     "text": [
      "False\n"
     ]
    }
   ],
   "source": [
    "print(\"ironman\" in name )"
   ]
  },
  {
   "cell_type": "code",
   "execution_count": 11,
   "id": "02362ad7",
   "metadata": {},
   "outputs": [
    {
     "name": "stdout",
     "output_type": "stream",
     "text": [
      "2\n"
     ]
    }
   ],
   "source": [
    "print(5 // 2)"
   ]
  },
  {
   "cell_type": "code",
   "execution_count": 12,
   "id": "e465b67d",
   "metadata": {},
   "outputs": [
    {
     "name": "stdout",
     "output_type": "stream",
     "text": [
      "1\n"
     ]
    }
   ],
   "source": [
    "print(5 % 2)"
   ]
  },
  {
   "cell_type": "code",
   "execution_count": 13,
   "id": "2cbcebd1",
   "metadata": {},
   "outputs": [
    {
     "name": "stdout",
     "output_type": "stream",
     "text": [
      "25\n"
     ]
    }
   ],
   "source": [
    "print(5 ** 2)"
   ]
  },
  {
   "cell_type": "code",
   "execution_count": null,
   "id": "118f41c3",
   "metadata": {},
   "outputs": [],
   "source": [
    "a = int(input(\"Enter a = \"))\n",
    "b = int(input(\"Enter b = \"))\n",
    "o = input(\" + or - or * or /\")\n"
   ]
  }
 ],
 "metadata": {
  "kernelspec": {
   "display_name": "Python 3 (ipykernel)",
   "language": "python",
   "name": "python3"
  },
  "language_info": {
   "codemirror_mode": {
    "name": "ipython",
    "version": 3
   },
   "file_extension": ".py",
   "mimetype": "text/x-python",
   "name": "python",
   "nbconvert_exporter": "python",
   "pygments_lexer": "ipython3",
   "version": "3.11.5"
  }
 },
 "nbformat": 4,
 "nbformat_minor": 5
}
