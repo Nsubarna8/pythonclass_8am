{
 "cells": [
  {
   "cell_type": "code",
   "execution_count": null,
   "id": "181be660",
   "metadata": {},
   "outputs": [],
   "source": [
    "# -pre defined\n",
    "# print() int() str() float() type() list() tuple() dict() set()"
   ]
  },
  {
   "cell_type": "code",
   "execution_count": null,
   "id": "4de31153",
   "metadata": {},
   "outputs": [],
   "source": [
    "# def <function_name>():\n",
    "#     <operation>\n",
    "    \n",
    "# <function name>()"
   ]
  },
  {
   "cell_type": "code",
   "execution_count": null,
   "id": "7d5b0b08",
   "metadata": {},
   "outputs": [],
   "source": [
    "# User defined functions\n",
    "def hello():\n",
    "    print(\"Hello world\")\n",
    "hello()"
   ]
  },
  {
   "cell_type": "code",
   "execution_count": null,
   "id": "75736121",
   "metadata": {},
   "outputs": [],
   "source": [
    "def cal():    #defining functions\n",
    "    l = int(input(\"Enter l = \"))    # local variable\n",
    "    b = int(input(\"Enter b = \"))    # local variable\n",
    "    h = int(input(\"Enter h = \"))    # local variable\n",
    "    a = l*b\n",
    "    v = a*b*h\n",
    "    print(a)\n",
    "    print(v)\n",
    "    \n",
    "cal()    # function call"
   ]
  },
  {
   "cell_type": "code",
   "execution_count": 2,
   "id": "4f3eee36",
   "metadata": {},
   "outputs": [
    {
     "name": "stdout",
     "output_type": "stream",
     "text": [
      "Enter l = 100\n",
      "Enter b = 50\n",
      "Enter h = 2\n",
      "5000\n",
      "500000\n"
     ]
    }
   ],
   "source": [
    "l = int(input(\"Enter l = \"))    \n",
    "b = int(input(\"Enter b = \"))    \n",
    "h = int(input(\"Enter h = \"))  \n",
    "def cal():    \n",
    "        a = l*b\n",
    "        v = a*b*h\n",
    "        print(a)\n",
    "        print(v)\n",
    "    \n",
    "cal()    "
   ]
  },
  {
   "cell_type": "code",
   "execution_count": 4,
   "id": "7c2c7177",
   "metadata": {},
   "outputs": [
    {
     "name": "stdout",
     "output_type": "stream",
     "text": [
      "Enter l = 10\n",
      "Enter b = 20\n",
      "Enter h = 30\n",
      "200\n",
      "6000\n"
     ]
    }
   ],
   "source": [
    "l = int(input(\"Enter l = \"))    \n",
    "b = int(input(\"Enter b = \"))    \n",
    "h = int(input(\"Enter h = \"))  \n",
    "\n",
    "def area():    \n",
    "        a = l*b\n",
    "        print(a)\n",
    "        \n",
    "def volume():\n",
    "        v = l*b*h\n",
    "        print(v)\n",
    "    \n",
    "area()\n",
    "volume()"
   ]
  },
  {
   "cell_type": "code",
   "execution_count": 5,
   "id": "fd068484",
   "metadata": {},
   "outputs": [
    {
     "ename": "KeyboardInterrupt",
     "evalue": "Interrupted by user",
     "output_type": "error",
     "traceback": [
      "\u001b[1;31m---------------------------------------------------------------------------\u001b[0m",
      "\u001b[1;31mKeyboardInterrupt\u001b[0m                         Traceback (most recent call last)",
      "Cell \u001b[1;32mIn[5], line 1\u001b[0m\n\u001b[1;32m----> 1\u001b[0m l \u001b[38;5;241m=\u001b[39m \u001b[38;5;28mint\u001b[39m(\u001b[38;5;28minput\u001b[39m(\u001b[38;5;124m\"\u001b[39m\u001b[38;5;124mEnter l = \u001b[39m\u001b[38;5;124m\"\u001b[39m))    \u001b[38;5;66;03m#global variable\u001b[39;00m\n\u001b[0;32m      2\u001b[0m b \u001b[38;5;241m=\u001b[39m \u001b[38;5;28mint\u001b[39m(\u001b[38;5;28minput\u001b[39m(\u001b[38;5;124m\"\u001b[39m\u001b[38;5;124mEnter b = \u001b[39m\u001b[38;5;124m\"\u001b[39m))    \n\u001b[0;32m      3\u001b[0m h \u001b[38;5;241m=\u001b[39m \u001b[38;5;28mint\u001b[39m(\u001b[38;5;28minput\u001b[39m(\u001b[38;5;124m\"\u001b[39m\u001b[38;5;124mEnter h = \u001b[39m\u001b[38;5;124m\"\u001b[39m))  \n",
      "File \u001b[1;32m~\\anaconda3\\Lib\\site-packages\\ipykernel\\kernelbase.py:1202\u001b[0m, in \u001b[0;36mKernel.raw_input\u001b[1;34m(self, prompt)\u001b[0m\n\u001b[0;32m   1200\u001b[0m     msg \u001b[38;5;241m=\u001b[39m \u001b[38;5;124m\"\u001b[39m\u001b[38;5;124mraw_input was called, but this frontend does not support input requests.\u001b[39m\u001b[38;5;124m\"\u001b[39m\n\u001b[0;32m   1201\u001b[0m     \u001b[38;5;28;01mraise\u001b[39;00m StdinNotImplementedError(msg)\n\u001b[1;32m-> 1202\u001b[0m \u001b[38;5;28;01mreturn\u001b[39;00m \u001b[38;5;28mself\u001b[39m\u001b[38;5;241m.\u001b[39m_input_request(\n\u001b[0;32m   1203\u001b[0m     \u001b[38;5;28mstr\u001b[39m(prompt),\n\u001b[0;32m   1204\u001b[0m     \u001b[38;5;28mself\u001b[39m\u001b[38;5;241m.\u001b[39m_parent_ident[\u001b[38;5;124m\"\u001b[39m\u001b[38;5;124mshell\u001b[39m\u001b[38;5;124m\"\u001b[39m],\n\u001b[0;32m   1205\u001b[0m     \u001b[38;5;28mself\u001b[39m\u001b[38;5;241m.\u001b[39mget_parent(\u001b[38;5;124m\"\u001b[39m\u001b[38;5;124mshell\u001b[39m\u001b[38;5;124m\"\u001b[39m),\n\u001b[0;32m   1206\u001b[0m     password\u001b[38;5;241m=\u001b[39m\u001b[38;5;28;01mFalse\u001b[39;00m,\n\u001b[0;32m   1207\u001b[0m )\n",
      "File \u001b[1;32m~\\anaconda3\\Lib\\site-packages\\ipykernel\\kernelbase.py:1245\u001b[0m, in \u001b[0;36mKernel._input_request\u001b[1;34m(self, prompt, ident, parent, password)\u001b[0m\n\u001b[0;32m   1242\u001b[0m \u001b[38;5;28;01mexcept\u001b[39;00m \u001b[38;5;167;01mKeyboardInterrupt\u001b[39;00m:\n\u001b[0;32m   1243\u001b[0m     \u001b[38;5;66;03m# re-raise KeyboardInterrupt, to truncate traceback\u001b[39;00m\n\u001b[0;32m   1244\u001b[0m     msg \u001b[38;5;241m=\u001b[39m \u001b[38;5;124m\"\u001b[39m\u001b[38;5;124mInterrupted by user\u001b[39m\u001b[38;5;124m\"\u001b[39m\n\u001b[1;32m-> 1245\u001b[0m     \u001b[38;5;28;01mraise\u001b[39;00m \u001b[38;5;167;01mKeyboardInterrupt\u001b[39;00m(msg) \u001b[38;5;28;01mfrom\u001b[39;00m \u001b[38;5;28;01mNone\u001b[39;00m\n\u001b[0;32m   1246\u001b[0m \u001b[38;5;28;01mexcept\u001b[39;00m \u001b[38;5;167;01mException\u001b[39;00m:\n\u001b[0;32m   1247\u001b[0m     \u001b[38;5;28mself\u001b[39m\u001b[38;5;241m.\u001b[39mlog\u001b[38;5;241m.\u001b[39mwarning(\u001b[38;5;124m\"\u001b[39m\u001b[38;5;124mInvalid Message:\u001b[39m\u001b[38;5;124m\"\u001b[39m, exc_info\u001b[38;5;241m=\u001b[39m\u001b[38;5;28;01mTrue\u001b[39;00m)\n",
      "\u001b[1;31mKeyboardInterrupt\u001b[0m: Interrupted by user"
     ]
    }
   ],
   "source": [
    "# function with arguments\n",
    "l = int(input(\"Enter l = \"))    #global variable\n",
    "b = int(input(\"Enter b = \"))    \n",
    "h = int(input(\"Enter h = \")) \n",
    "\n",
    "def cal(x,y,z):    # defining functions with parameter\n",
    "        a = x*y\n",
    "        v = x*y*z\n",
    "        print(a)\n",
    "        print(v)\n",
    "    \n",
    "cal(l,b,h)     # function call with arguments "
   ]
  },
  {
   "cell_type": "code",
   "execution_count": null,
   "id": "41609da1",
   "metadata": {},
   "outputs": [],
   "source": [
    "# function with arguments\n",
    "l = int(input(\"Enter l = \"))    #global variable\n",
    "b = int(input(\"Enter b = \"))    \n",
    "h = int(input(\"Enter h = \")) \n",
    "\n",
    "def cal(x,y,z):    # defining functions with parameter\n",
    "        a = x*y\n",
    "        v = x*y*z\n",
    "        print(a)\n",
    "        print(v)\n",
    "    \n",
    "cal(l,b,h)     # function call with arguments "
   ]
  },
  {
   "cell_type": "code",
   "execution_count": null,
   "id": "f59db185",
   "metadata": {},
   "outputs": [],
   "source": [
    "# function with arguments\n",
    "def cal(data): # defining functions with parameter\n",
    "        x,y,z = data\n",
    "        a = x*y\n",
    "        v = x*y*z\n",
    "        print(a)\n",
    "        print(v)\n",
    "    \n",
    "l = int(input(\"Enter l = \"))    #global variable\n",
    "b = int(input(\"Enter b = \"))    \n",
    "h = int(input(\"Enter h = \")) \n",
    "\n",
    "data = [l,b,h]    \n",
    "cal(l,b,h)     # function call with arguments "
   ]
  },
  {
   "cell_type": "code",
   "execution_count": 7,
   "id": "5e195b3c",
   "metadata": {},
   "outputs": [
    {
     "name": "stdout",
     "output_type": "stream",
     "text": [
      "C\n",
      "C++\n",
      "Java\n",
      "R\n",
      "python\n"
     ]
    }
   ],
   "source": [
    "def language(lan = \"python\"):\n",
    "    print(lan)\n",
    "    \n",
    "language(\"C\")\n",
    "language(\"C++\")\n",
    "language(\"Java\")\n",
    "language(\"R\")\n",
    "language()"
   ]
  },
  {
   "cell_type": "code",
   "execution_count": 11,
   "id": "6cf4047c",
   "metadata": {},
   "outputs": [
    {
     "name": "stdout",
     "output_type": "stream",
     "text": [
      "hello world I am python\n"
     ]
    }
   ],
   "source": [
    "# Return type function\n",
    "\n",
    "def hello():\n",
    "    return \"hello world\"\n",
    "\n",
    "# print(hello())\n",
    "x = hello()\n",
    "print(x+ \" I am python\")"
   ]
  },
  {
   "cell_type": "code",
   "execution_count": 12,
   "id": "c5c0ffc7",
   "metadata": {},
   "outputs": [
    {
     "name": "stdout",
     "output_type": "stream",
     "text": [
      "Enter l = 10\n",
      "Enter b = 20\n",
      "Enter h = 30\n",
      "6000\n",
      "200\n"
     ]
    }
   ],
   "source": [
    "# function with arguments and return types\n",
    "l = int(input(\"Enter l = \"))    #global variable\n",
    "b = int(input(\"Enter b = \"))    \n",
    "h = int(input(\"Enter h = \")) \n",
    "\n",
    "def cal(x,y):    # defining functions with parameter\n",
    "        a = x*y\n",
    "        return a\n",
    "    \n",
    "area = cal(l,b)   # function call with arguments\n",
    "volume = area *h\n",
    "print(volume)\n",
    "print(area)"
   ]
  },
  {
   "cell_type": "code",
   "execution_count": 13,
   "id": "e085ff75",
   "metadata": {},
   "outputs": [
    {
     "name": "stdout",
     "output_type": "stream",
     "text": [
      "Enter l = 10\n",
      "Enter b = 20\n",
      "Enter h = 30\n",
      "(200, 6000)\n",
      "200\n",
      "6000\n"
     ]
    }
   ],
   "source": [
    "# function with arguments\n",
    "l = int(input(\"Enter l = \"))    #global variable\n",
    "b = int(input(\"Enter b = \"))    \n",
    "h = int(input(\"Enter h = \")) \n",
    "\n",
    "def cal(x,y,z):    # defining functions with parameter\n",
    "        a = x*y\n",
    "        v = x*y*z\n",
    "        return a,v\n",
    "    \n",
    "    \n",
    "print(cal(l,b,h))  # function call with arguments \n",
    "area,volume = cal(l,b,h)\n",
    "print(area)\n",
    "print(volume)"
   ]
  },
  {
   "cell_type": "code",
   "execution_count": 1,
   "id": "9652c993",
   "metadata": {},
   "outputs": [
    {
     "name": "stdout",
     "output_type": "stream",
     "text": [
      "Enter a = 1\n",
      "Enter b = 2\n",
      "Enter + or - or * or / +\n",
      "3\n"
     ]
    }
   ],
   "source": [
    "a = int(input(\"Enter a = \"))\n",
    "b = int(input(\"Enter b = \"))\n",
    "o = input(\"Enter + or - or * or / \")\n",
    "def add(a,b):\n",
    "    return a+b\n",
    "def sub(a,b):\n",
    "    return a-b\n",
    "def mul(a,b):\n",
    "    return a*b\n",
    "def div(a,b):\n",
    "    return(a/b)\n",
    "def cal(a,b,o):\n",
    "    if o == \"+\":\n",
    "        print(add(a,b))\n",
    "    elif o == \"-\":\n",
    "        print(sub(a,b))\n",
    "    elif o == \"*\":\n",
    "        print(mul(a,b))\n",
    "    elif o == \"/\" and (b != 0):\n",
    "        print(div(a,b))\n",
    "    elif o == \"/\" and (b == 0):\n",
    "        print(\"The value if b can't be zero when o is /\")\n",
    "    else:\n",
    "        print(\"Enter valid operator\")\n",
    "    \n",
    "cal(a,b,o)"
   ]
  },
  {
   "cell_type": "code",
   "execution_count": 3,
   "id": "179e0c4f",
   "metadata": {},
   "outputs": [
    {
     "name": "stdout",
     "output_type": "stream",
     "text": [
      "Enter n = 2\n",
      "Enter name = Apple\n",
      "Enter price = 2\n",
      "Enter qty = 1\n",
      "Enter name = Banana\n",
      "Enter price = 3\n",
      "Enter qty = 2\n",
      "Apple 2 1.0 2.0\n",
      "Banana 3 2.0 6.0\n",
      "\n",
      "8.0\n"
     ]
    }
   ],
   "source": [
    "bill = str()\n",
    "all_total = 0\n",
    "n = int(input(\"Enter n = \"))\n",
    "\n",
    "def billing_system(n):\n",
    "    global bill,all_total\n",
    "    for i in range(n):\n",
    "        name = input(\"Enter name = \")\n",
    "        price = int(input(\"Enter price = \"))\n",
    "        qty = float(input(\"Enter qty = \"))\n",
    "        total = price * qty\n",
    "        bill = bill + f\"{name} {price} {qty} {total}\\n\"\n",
    "        all_total = all_total + total\n",
    "    \n",
    "    return bill,all_total\n",
    "\n",
    "bill,all_total = billing_system(n)    \n",
    "print(bill)\n",
    "print(all_total)"
   ]
  },
  {
   "cell_type": "code",
   "execution_count": null,
   "id": "e4a040d1",
   "metadata": {},
   "outputs": [],
   "source": []
  },
  {
   "cell_type": "code",
   "execution_count": null,
   "id": "473fc171",
   "metadata": {},
   "outputs": [],
   "source": []
  },
  {
   "cell_type": "code",
   "execution_count": null,
   "id": "6e0729d6",
   "metadata": {},
   "outputs": [],
   "source": []
  },
  {
   "cell_type": "code",
   "execution_count": null,
   "id": "789290ce",
   "metadata": {},
   "outputs": [],
   "source": []
  },
  {
   "cell_type": "code",
   "execution_count": null,
   "id": "9ab2e5a7",
   "metadata": {},
   "outputs": [],
   "source": []
  },
  {
   "cell_type": "code",
   "execution_count": null,
   "id": "0675506e",
   "metadata": {},
   "outputs": [],
   "source": []
  },
  {
   "cell_type": "code",
   "execution_count": null,
   "id": "001a36b2",
   "metadata": {},
   "outputs": [],
   "source": []
  },
  {
   "cell_type": "code",
   "execution_count": null,
   "id": "981555d7",
   "metadata": {},
   "outputs": [],
   "source": []
  },
  {
   "cell_type": "code",
   "execution_count": null,
   "id": "64a9defa",
   "metadata": {},
   "outputs": [],
   "source": [
    "\n"
   ]
  }
 ],
 "metadata": {
  "kernelspec": {
   "display_name": "Python 3 (ipykernel)",
   "language": "python",
   "name": "python3"
  },
  "language_info": {
   "codemirror_mode": {
    "name": "ipython",
    "version": 3
   },
   "file_extension": ".py",
   "mimetype": "text/x-python",
   "name": "python",
   "nbconvert_exporter": "python",
   "pygments_lexer": "ipython3",
   "version": "3.11.5"
  }
 },
 "nbformat": 4,
 "nbformat_minor": 5
}
