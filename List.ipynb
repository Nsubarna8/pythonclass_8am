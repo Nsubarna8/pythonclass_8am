{
 "cells": [
  {
   "cell_type": "code",
   "execution_count": null,
   "id": "a8d6f8ee",
   "metadata": {},
   "outputs": [],
   "source": [
    "n = int(input(\"Enter n = \"))\n",
    "for n in range(3):\n",
    "    name = input(\"Enter name = \")\n",
    "    Qty = float(input(\"Enter Qty = \"))\n",
    "    Price = float(input(\"Enter Price = \"))\n",
    "    Total = Qty*Price\n",
    "    Bill = f\"name:{name}\\nQty:{Qty}\\nPrice:{Price}\\nTotal:{Total}\"\n",
    "    print(Bill)"
   ]
  },
  {
   "cell_type": "code",
   "execution_count": null,
   "id": "b7578e21",
   "metadata": {},
   "outputs": [],
   "source": [
    "name = input(\"Enter name = \")\n",
    "Qty = float(input(\"Enter Qty = \"))\n",
    "Price = float(input(\"Enter Price = \"))\n",
    "Total = Qty*Price\n",
    "Bill = f\"name:{name}\\nQty:{Qty}\\nPrice:{Price}\\nTotal:{Total}\"\n",
    "print(Bill)"
   ]
  },
  {
   "cell_type": "code",
   "execution_count": null,
   "id": "60873205",
   "metadata": {},
   "outputs": [],
   "source": [
    "# Python Collection\n",
    "# list\n",
    "# tuple\n",
    "# dict\n",
    "# set"
   ]
  },
  {
   "cell_type": "code",
   "execution_count": null,
   "id": "9f42857a",
   "metadata": {},
   "outputs": [],
   "source": [
    "# List\n",
    "# -Indexing\n",
    "# -Ordered\n",
    "# -Multiple and duplicate\n",
    "# -Mutuable"
   ]
  },
  {
   "cell_type": "code",
   "execution_count": null,
   "id": "09e78ea0",
   "metadata": {},
   "outputs": [],
   "source": [
    "a = [1,2,3,4,5,6,7,8,9,0]\n",
    "b = [\"Apple\",\"Ball\",\"Cat\",\"Dog\",\"Elephant\"]\n",
    "print(type(a))\n",
    "print(type(b))"
   ]
  },
  {
   "cell_type": "code",
   "execution_count": null,
   "id": "9676f8ed",
   "metadata": {},
   "outputs": [],
   "source": [
    "b = [\"Apple\",\"Ball\",\"Cat\",\"Dog\",\"Elephant\"]\n",
    "print(b[0])\n",
    "print(b[0:4])\n",
    "print(b[0:5:2])\n",
    "print(b[::-1])\n",
    "print(b[-1])"
   ]
  },
  {
   "cell_type": "code",
   "execution_count": null,
   "id": "a252e078",
   "metadata": {},
   "outputs": [],
   "source": [
    "b = [\"Apple\",\"Ball\",\"Cat\",\"Dog\",\"Elephant\",\"Apple\"]\n",
    "print(b[0])\n",
    "print(b[0:4])\n",
    "print(b[0:5:2])\n",
    "print(b[::-1])\n",
    "print(b[-1])\n",
    "print(b)"
   ]
  },
  {
   "cell_type": "code",
   "execution_count": null,
   "id": "1a2e4f7f",
   "metadata": {},
   "outputs": [],
   "source": [
    "a = [1,2,3,4,5]\n",
    "b = [6,7,8,9,10]\n",
    "c = a+b\n",
    "print(c)"
   ]
  },
  {
   "cell_type": "code",
   "execution_count": null,
   "id": "dc9eecfc",
   "metadata": {},
   "outputs": [],
   "source": [
    "a = [1,2,3,4,5]\n",
    "b = a*2\n",
    "print(b)"
   ]
  },
  {
   "cell_type": "code",
   "execution_count": null,
   "id": "cce74216",
   "metadata": {},
   "outputs": [],
   "source": [
    "a = [1,2,3,4,5]\n",
    "for i in a:\n",
    "    print(a)"
   ]
  },
  {
   "cell_type": "code",
   "execution_count": null,
   "id": "341f97fd",
   "metadata": {},
   "outputs": [],
   "source": [
    "b = [\"Apple\",\"Ball\",\"Cat\",\"Dog\",\"Elephant\",\"Apple\"]\n",
    "for i in b:\n",
    "    print(i)"
   ]
  },
  {
   "cell_type": "code",
   "execution_count": null,
   "id": "bd1f4007",
   "metadata": {},
   "outputs": [],
   "source": [
    "# append() insert() extend()  # append vaneko list vitra add garna ho"
   ]
  },
  {
   "cell_type": "code",
   "execution_count": null,
   "id": "341de9fa",
   "metadata": {},
   "outputs": [],
   "source": [
    "a=[]\n",
    "n = int(input(\"Enter n =\"))\n",
    "for i in range(n):\n",
    "    x = int(input(\"Enter x = \"))\n",
    "    a.append(x)\n",
    "print(a)"
   ]
  },
  {
   "cell_type": "code",
   "execution_count": null,
   "id": "3e2802a2",
   "metadata": {},
   "outputs": [],
   "source": [
    "a=[]\n",
    "n = int(input(\"Enter n =\"))\n",
    "for i in range(n):\n",
    "        x = int(input(\"Enter x = \"))\n",
    "        a.append(x)\n",
    "        print(a)"
   ]
  },
  {
   "cell_type": "code",
   "execution_count": null,
   "id": "8ad9267e",
   "metadata": {},
   "outputs": [],
   "source": [
    "print(\"The max value = \",max(a))\n",
    "print(\"The min value = \",min(a))\n",
    "print(\"The sum value = \",sum(a))\n",
    "a.sort()\n",
    "print(a)\n",
    "\n"
   ]
  },
  {
   "cell_type": "code",
   "execution_count": null,
   "id": "5c5ee6fe",
   "metadata": {},
   "outputs": [],
   "source": [
    "print(\"The max value = \",max(a))\n",
    "print(\"The min value = \",min(a))\n",
    "print(\"The sum value = \",sum(a))\n",
    "a.sort()\n",
    "a.reverse()\n",
    "print(a)"
   ]
  },
  {
   "cell_type": "code",
   "execution_count": null,
   "id": "3a6cfa20",
   "metadata": {},
   "outputs": [],
   "source": [
    "print(\"The max value = \",max(a))\n",
    "print(\"The min value = \",min(a))\n",
    "print(\"The sum value = \",sum(a))\n",
    "a.sort()\n",
    "print(a)\n",
    "a.reverse()\n",
    "print(a)"
   ]
  },
  {
   "cell_type": "code",
   "execution_count": null,
   "id": "d3e8fba4",
   "metadata": {},
   "outputs": [],
   "source": [
    "b = [\"Apple\",\"Ball\",\"Cat\",\"Dog\",\"Elephant\",\"Apple\",\"Ant\",\"ant\"]\n",
    "b.sort()\n",
    "print(b)"
   ]
  },
  {
   "cell_type": "code",
   "execution_count": null,
   "id": "de758a1c",
   "metadata": {},
   "outputs": [],
   "source": [
    "b = [\"Apple\",\"Ball\",\"Cat\",\"Dog\",\"Elephant\",\"Apple\",\".Ant\",\"ant\"]\n",
    "b.sort()\n",
    "print(b)"
   ]
  },
  {
   "cell_type": "code",
   "execution_count": null,
   "id": "7939fe02",
   "metadata": {},
   "outputs": [],
   "source": [
    "#insert()\n",
    "b = [\"Apple\",\"Ball\",\"Cat\",\"Dog\",\"Elephant\",\"Apple\",\"Ant\",\"ant\"]\n",
    "b.insert(1,\"Apple\")\n",
    "print(b)"
   ]
  },
  {
   "cell_type": "code",
   "execution_count": 5,
   "id": "3a2a23ab",
   "metadata": {},
   "outputs": [
    {
     "name": "stdout",
     "output_type": "stream",
     "text": [
      "['Apple', 'Ball', 'Cat', 'Dog', 'Elephant', 'Apple', 'Ant', 'ant', 1, 2, 3, 4, 5, 6, 7, 8, 9]\n"
     ]
    }
   ],
   "source": [
    "#extend()\n",
    "a = [\"Apple\",\"Ball\",\"Cat\",\"Dog\",\"Elephant\",\"Apple\",\"Ant\",\"ant\"]\n",
    "b = [1,2,3,4,5,6,7,8,9]\n",
    "a.extend(b)\n",
    "print(a)"
   ]
  },
  {
   "cell_type": "code",
   "execution_count": 7,
   "id": "92831553",
   "metadata": {},
   "outputs": [
    {
     "name": "stdout",
     "output_type": "stream",
     "text": [
      "['ball', 'Ball', 'Cat', 'Dog', 'Elephant', 'Apple', 'Ant', 'ant']\n"
     ]
    }
   ],
   "source": [
    "# update list\n",
    "a= [\"Apple\",\"Ball\",\"Cat\",\"Dog\",\"Elephant\",\"Apple\",\"Ant\",\"ant\"]\n",
    "a[0] = \"ball\"\n",
    "print(a)"
   ]
  },
  {
   "cell_type": "code",
   "execution_count": 12,
   "id": "1c3f3cd9",
   "metadata": {},
   "outputs": [
    {
     "name": "stdout",
     "output_type": "stream",
     "text": [
      "['Apple', '1', '2', 'Cat', 'Dog', 'Elephant', 'Apple', 'Ant', 'ant']\n"
     ]
    }
   ],
   "source": [
    "a= [\"Apple\",\"Ball\",\"Cat\",\"Dog\",\"Elephant\",\"Apple\",\"Ant\",\"ant\"]\n",
    "a[1:2] = [\"1\",\"2\"]\n",
    "print(a)"
   ]
  },
  {
   "cell_type": "code",
   "execution_count": 11,
   "id": "2b427b37",
   "metadata": {},
   "outputs": [
    {
     "name": "stdout",
     "output_type": "stream",
     "text": [
      "['1', '2', 'Cat', 'Dog', 'Elephant', 'Apple', 'Ant', 'ant']\n"
     ]
    }
   ],
   "source": [
    "a= [\"Apple\",\"Ball\",\"Cat\",\"Dog\",\"Elephant\",\"Apple\",\"Ant\",\"ant\"]\n",
    "a[0:2] = [\"1\",\"2\"]\n",
    "print(a)"
   ]
  },
  {
   "cell_type": "code",
   "execution_count": null,
   "id": "ddbd2616",
   "metadata": {},
   "outputs": [],
   "source": []
  },
  {
   "cell_type": "code",
   "execution_count": null,
   "id": "cac1fde2",
   "metadata": {},
   "outputs": [],
   "source": [
    "# #Removing the value from list\n",
    "# del remove()pop()"
   ]
  },
  {
   "cell_type": "code",
   "execution_count": 13,
   "id": "8f3ea809",
   "metadata": {},
   "outputs": [
    {
     "name": "stdout",
     "output_type": "stream",
     "text": [
      "['Ball', 'Cat', 'Dog', 'Elephant', 'Apple', 'Ant', 'ant']\n"
     ]
    }
   ],
   "source": [
    "a= [\"Apple\",\"Ball\",\"Cat\",\"Dog\",\"Elephant\",\"Apple\",\"Ant\",\"ant\"]\n",
    "del a[0]\n",
    "print(a)"
   ]
  },
  {
   "cell_type": "code",
   "execution_count": 14,
   "id": "42f77726",
   "metadata": {},
   "outputs": [
    {
     "name": "stdout",
     "output_type": "stream",
     "text": [
      "['Apple', 'Ant', 'ant']\n"
     ]
    }
   ],
   "source": [
    "a= [\"Apple\",\"Ball\",\"Cat\",\"Dog\",\"Elephant\",\"Apple\",\"Ant\",\"ant\"]\n",
    "del a[0:5]\n",
    "print(a)"
   ]
  },
  {
   "cell_type": "code",
   "execution_count": 20,
   "id": "bdf9966f",
   "metadata": {},
   "outputs": [
    {
     "name": "stdout",
     "output_type": "stream",
     "text": [
      "4\n"
     ]
    }
   ],
   "source": [
    "a= [\"Ball\",\"Cat\",\"Dog\",\"Elephant\",\"Apple\",\"Ant\",\"ant\"]\n",
    "print(a.index(\"Apple\"))"
   ]
  },
  {
   "cell_type": "code",
   "execution_count": 23,
   "id": "79cc6e4d",
   "metadata": {},
   "outputs": [
    {
     "name": "stdout",
     "output_type": "stream",
     "text": [
      "2\n"
     ]
    }
   ],
   "source": [
    "a= [\"Ball\",\"Cat\",\"Dog\",\"Elephant\",\"Ant\",\"ant\"]\n",
    "print(a.index(\"Dog\"))"
   ]
  },
  {
   "cell_type": "code",
   "execution_count": 32,
   "id": "c32cc124",
   "metadata": {},
   "outputs": [
    {
     "name": "stdout",
     "output_type": "stream",
     "text": [
      "0\n",
      "5\n"
     ]
    }
   ],
   "source": [
    "a = [\"Apple\",\"Ball\",\"Cat\",\"Dog\",\"Elephant\",\"Apple\",\"Ant\",\"ant\"]\n",
    "l = len(a)\n",
    "for i in range(l):\n",
    "    if a[i] == \"Apple\":\n",
    "        print(i)"
   ]
  },
  {
   "cell_type": "code",
   "execution_count": 33,
   "id": "39f5b08b",
   "metadata": {},
   "outputs": [
    {
     "name": "stdout",
     "output_type": "stream",
     "text": [
      "Enter search value = Apple\n",
      "0\n",
      "5\n"
     ]
    }
   ],
   "source": [
    "a = [\"Apple\",\"Ball\",\"Cat\",\"Dog\",\"Elephant\",\"Apple\",\"Ant\",\"ant\"]\n",
    "l = len(a)\n",
    "search = input(\"Enter search value = \")\n",
    "for i in range(l):\n",
    "    if a[i] == search:\n",
    "        print(i)"
   ]
  },
  {
   "cell_type": "code",
   "execution_count": 38,
   "id": "85280ce3",
   "metadata": {},
   "outputs": [
    {
     "name": "stdout",
     "output_type": "stream",
     "text": [
      "['Ball', 'Cat', 'Elephant', 'Ant', 'ant']\n"
     ]
    }
   ],
   "source": [
    "a= [\"Ball\",\"Cat\",\"Dog\",\"Elephant\",\"Ant\",\"ant\"]\n",
    "a.remove(\"Dog\")\n",
    "print(a)"
   ]
  },
  {
   "cell_type": "code",
   "execution_count": 40,
   "id": "7b66b137",
   "metadata": {},
   "outputs": [
    {
     "name": "stdout",
     "output_type": "stream",
     "text": [
      "['Ball', 'Cat', 'Dog', 'Elephant', 'Apple', 'Ant', 'ant']\n",
      "['Ball', 'Cat', 'Dog', 'Elephant', 'Ant', 'ant']\n"
     ]
    }
   ],
   "source": [
    "a = [\"Apple\",\"Ball\",\"Cat\",\"Dog\",\"Elephant\",\"Apple\",\"Ant\",\"ant\"]\n",
    "c = a.count(\"Apple\")\n",
    "for i in range(c):\n",
    "    a.remove(\"Apple\")\n",
    "    print(a)"
   ]
  },
  {
   "cell_type": "code",
   "execution_count": 43,
   "id": "d6557412",
   "metadata": {},
   "outputs": [
    {
     "data": {
      "text/plain": [
       "['Ball', 'Cat', 'Dog', 'Elephant', 'Apple', 'Ant', 'ant']"
      ]
     },
     "execution_count": 43,
     "metadata": {},
     "output_type": "execute_result"
    }
   ],
   "source": [
    "a = [\"Apple\",\"Ball\",\"Cat\",\"Dog\",\"Elephant\",\"Apple\",\"Ant\",\"ant\"]\n",
    "a.pop(0)\n",
    "a"
   ]
  },
  {
   "cell_type": "code",
   "execution_count": 46,
   "id": "a63a8620",
   "metadata": {},
   "outputs": [
    {
     "name": "stdout",
     "output_type": "stream",
     "text": [
      "['Apple', 'Ball', 'Cat', 'Dog', 'Elephant', 'Ant', 'ant', 'Ball']\n",
      "Apple\n"
     ]
    }
   ],
   "source": [
    "a = [\"Apple\",\"Ball\",\"Cat\",\"Dog\",\"Elephant\",\"Apple\",\"Ant\",\"ant\",\"Ball\"]\n",
    "b = a.pop(5)\n",
    "print(a)\n",
    "print(b)"
   ]
  },
  {
   "cell_type": "code",
   "execution_count": null,
   "id": "e949d379",
   "metadata": {},
   "outputs": [],
   "source": [
    "# search in list"
   ]
  },
  {
   "cell_type": "code",
   "execution_count": 2,
   "id": "f869da56",
   "metadata": {},
   "outputs": [
    {
     "name": "stdout",
     "output_type": "stream",
     "text": [
      "Enter search = Dog\n",
      "Dog\n",
      "Yes\n",
      "1\n"
     ]
    }
   ],
   "source": [
    "a = [\"Apple\",\"Ball\",\"Cat\",\"Dog\",\"Elephant\",\"Apple\",\"Ant\",\"ant\",\"Ball\"]\n",
    "search = input(\"Enter search = \")\n",
    "if search in a:\n",
    "    print(search)\n",
    "    print(\"Yes\")\n",
    "    print(a.count(search))\n"
   ]
  },
  {
   "cell_type": "code",
   "execution_count": 12,
   "id": "a8b38f76",
   "metadata": {},
   "outputs": [
    {
     "name": "stdout",
     "output_type": "stream",
     "text": [
      "Enter search = Doog\n",
      "0\n",
      "Provide match is not found\n"
     ]
    }
   ],
   "source": [
    "c = 0\n",
    "a = [\"Apple\",\"Ball\",\"Cat\",\"Dog\",\"Elephant\",\"Apple\",\"Ant\",\"ant\",\"Ball\"]\n",
    "search = input(\"Enter search = \")\n",
    "for i in range(len(a)):\n",
    "    if search.lower() ==a[i].lower():\n",
    "            c = c+1\n",
    "print(c)\n",
    "if c>0:\n",
    "    print(\"Search is over value found\")\n",
    "else:\n",
    "    print(\"Provide match is not found\")"
   ]
  },
  {
   "cell_type": "code",
   "execution_count": 13,
   "id": "68d7cd2f",
   "metadata": {},
   "outputs": [],
   "source": [
    "# list inside list"
   ]
  },
  {
   "cell_type": "code",
   "execution_count": 14,
   "id": "c738f990",
   "metadata": {},
   "outputs": [
    {
     "data": {
      "text/plain": [
       "list"
      ]
     },
     "execution_count": 14,
     "metadata": {},
     "output_type": "execute_result"
    }
   ],
   "source": [
    "a = [[1,2,3],\n",
    "    [4,5,6],\n",
    "    [7,8,9]]\n",
    "type(a)"
   ]
  },
  {
   "cell_type": "code",
   "execution_count": 15,
   "id": "7de5a102",
   "metadata": {},
   "outputs": [
    {
     "name": "stdout",
     "output_type": "stream",
     "text": [
      "[['Ram', 34, 'Kathmand'], ['Shyam', 49, 'lalitpur'], ['hari', 50, 'bhaktpur']]\n"
     ]
    }
   ],
   "source": [
    "info = [[\"Ram\",34,\"Kathmand\"],\n",
    "        [\"Shyam\",49,\"lalitpur\"],\n",
    "        [\"hari\",50,\"bhaktpur\"]]\n",
    "print(info)"
   ]
  },
  {
   "cell_type": "code",
   "execution_count": 17,
   "id": "e5859618",
   "metadata": {},
   "outputs": [
    {
     "data": {
      "text/plain": [
       "['Ram', 34, 'Kathmand']"
      ]
     },
     "execution_count": 17,
     "metadata": {},
     "output_type": "execute_result"
    }
   ],
   "source": [
    "info[0]"
   ]
  },
  {
   "cell_type": "code",
   "execution_count": 20,
   "id": "6db85bee",
   "metadata": {},
   "outputs": [
    {
     "data": {
      "text/plain": [
       "34"
      ]
     },
     "execution_count": 20,
     "metadata": {},
     "output_type": "execute_result"
    }
   ],
   "source": [
    "info[0][1]"
   ]
  },
  {
   "cell_type": "code",
   "execution_count": 21,
   "id": "99900ddf",
   "metadata": {},
   "outputs": [
    {
     "data": {
      "text/plain": [
       "'Shyam'"
      ]
     },
     "execution_count": 21,
     "metadata": {},
     "output_type": "execute_result"
    }
   ],
   "source": [
    "info[1][0]"
   ]
  },
  {
   "cell_type": "code",
   "execution_count": 22,
   "id": "ba95b92d",
   "metadata": {},
   "outputs": [
    {
     "name": "stdout",
     "output_type": "stream",
     "text": [
      "Enter n = 2\n",
      "Enter name = Subarna\n",
      "Enter age = 22\n",
      "Enter add = Dhobighat\n",
      "Enter name = Nepal\n",
      "Enter age = 23\n",
      "Enter add = lalitpur\n",
      "[['Subarna', 22, 'Dhobighat'], ['Nepal', 23, 'lalitpur']]\n"
     ]
    }
   ],
   "source": [
    "info = []\n",
    "n = int(input(\"Enter n = \"))\n",
    "for i in range(n):\n",
    "    name = input(\"Enter name = \")\n",
    "    age = int(input(\"Enter age = \"))\n",
    "    add = input(\"Enter add = \")\n",
    "    x = [name,age,add]\n",
    "    info.append(x)\n",
    "print(info)"
   ]
  },
  {
   "cell_type": "code",
   "execution_count": 23,
   "id": "8b389085",
   "metadata": {},
   "outputs": [
    {
     "data": {
      "text/plain": [
       "[['Subarna', 22, 'Dhobighat'], ['Nepal', 23, 'lalitpur']]"
      ]
     },
     "execution_count": 23,
     "metadata": {},
     "output_type": "execute_result"
    }
   ],
   "source": [
    "info"
   ]
  },
  {
   "cell_type": "code",
   "execution_count": 24,
   "id": "b3561503",
   "metadata": {},
   "outputs": [
    {
     "data": {
      "text/plain": [
       "2"
      ]
     },
     "execution_count": 24,
     "metadata": {},
     "output_type": "execute_result"
    }
   ],
   "source": [
    "len(info)"
   ]
  },
  {
   "cell_type": "code",
   "execution_count": 25,
   "id": "ea909758",
   "metadata": {},
   "outputs": [
    {
     "name": "stdout",
     "output_type": "stream",
     "text": [
      "['Subarna', 22, 'Dhobighat']\n",
      "['Nepal', 23, 'lalitpur']\n"
     ]
    }
   ],
   "source": [
    "for i in info:\n",
    "    print(i)"
   ]
  },
  {
   "cell_type": "code",
   "execution_count": 27,
   "id": "4140a0a5",
   "metadata": {},
   "outputs": [
    {
     "name": "stdout",
     "output_type": "stream",
     "text": [
      "Enter name = Ram\n",
      "Username not found\n",
      "Username not found\n"
     ]
    }
   ],
   "source": [
    "name = input(\"Enter name = \")\n",
    "for i in info:\n",
    "    if name in i:\n",
    "        print(i)\n",
    "    else:\n",
    "        print(\"Username not found\")"
   ]
  },
  {
   "cell_type": "code",
   "execution_count": 28,
   "id": "17c51e12",
   "metadata": {},
   "outputs": [
    {
     "name": "stdout",
     "output_type": "stream",
     "text": [
      "Enter age = 30\n"
     ]
    }
   ],
   "source": [
    "    age = int(input(\"Enter age = \"))\n",
    "    for i in info:\n",
    "        if i[1]>=age:\n",
    "            print(i)"
   ]
  },
  {
   "cell_type": "code",
   "execution_count": 31,
   "id": "d38df2ad",
   "metadata": {},
   "outputs": [
    {
     "name": "stdout",
     "output_type": "stream",
     "text": [
      "Enter age = 20\n",
      "['Subarna', 22, 'Dhobighat']\n",
      "['Nepal', 23, 'lalitpur']\n"
     ]
    }
   ],
   "source": [
    "age = int(input(\"Enter age = \"))\n",
    "for i in info:\n",
    "    if i[1]>=age:\n",
    "        print(i)\n",
    "    else:\n",
    "        print(\"Age is invalid\")"
   ]
  },
  {
   "cell_type": "code",
   "execution_count": 44,
   "id": "217d7bcc",
   "metadata": {},
   "outputs": [
    {
     "name": "stdout",
     "output_type": "stream",
     "text": [
      "Enter name = subarna\n",
      "['Subarna', 22, 'Dhobighat']\n"
     ]
    }
   ],
   "source": [
    "name = input(\"Enter name = \")\n",
    "for i in info:\n",
    "    if name.lower() == i[0].lower():\n",
    "        print(i)"
   ]
  },
  {
   "cell_type": "code",
   "execution_count": 45,
   "id": "f2c21ed3",
   "metadata": {},
   "outputs": [],
   "source": [
    "# update"
   ]
  },
  {
   "cell_type": "code",
   "execution_count": 47,
   "id": "37d3b5ac",
   "metadata": {},
   "outputs": [
    {
     "data": {
      "text/plain": [
       "[['RAM', 34, 'kathmandu'], ['Nepal', 23, 'lalitpur']]"
      ]
     },
     "execution_count": 47,
     "metadata": {},
     "output_type": "execute_result"
    }
   ],
   "source": [
    "info[0]= [\"Ram\",34,\"kathmandu\"]\n",
    "info[0][0] = \"RAM\"\n",
    "info"
   ]
  },
  {
   "cell_type": "code",
   "execution_count": 48,
   "id": "34a9735b",
   "metadata": {},
   "outputs": [
    {
     "data": {
      "text/plain": [
       "[['RAM', 34, 'kathmandu'], ['Nepal', 23, 'lalitpur']]"
      ]
     },
     "execution_count": 48,
     "metadata": {},
     "output_type": "execute_result"
    }
   ],
   "source": [
    "info"
   ]
  },
  {
   "cell_type": "code",
   "execution_count": 50,
   "id": "92340eac",
   "metadata": {},
   "outputs": [
    {
     "data": {
      "text/plain": [
       "[['Nepal', 23, 'lalitpur']]"
      ]
     },
     "execution_count": 50,
     "metadata": {},
     "output_type": "execute_result"
    }
   ],
   "source": [
    "#del remove() pop()\n",
    "del info[0]\n",
    "info"
   ]
  },
  {
   "cell_type": "code",
   "execution_count": 61,
   "id": "91e3a7c8",
   "metadata": {},
   "outputs": [
    {
     "name": "stdout",
     "output_type": "stream",
     "text": [
      "[['Subarna', 22, 'Dhobighat'], ['Nepal', 23, 'lalitpur'], ['Ram', 45, 'Bhaktapur'], ['Hari', 80, 'Chitwan']]\n"
     ]
    }
   ],
   "source": [
    "info = [['Subarna', 22, 'Dhobighat'],\n",
    "       ['Nepal', 23, 'lalitpur'],\n",
    "       [\"Ram\",45,\"Bhaktapur\"],\n",
    "       ['Hari',80,'Chitwan']]\n",
    "print(info)"
   ]
  },
  {
   "cell_type": "code",
   "execution_count": 62,
   "id": "367d0142",
   "metadata": {},
   "outputs": [
    {
     "name": "stdout",
     "output_type": "stream",
     "text": [
      "[['Nepal', 23, 'lalitpur'], ['Ram', 45, 'Bhaktapur'], ['Hari', 80, 'Chitwan']]\n"
     ]
    }
   ],
   "source": [
    "info.remove(['Subarna', 22, 'Dhobighat'])\n",
    "print(info)"
   ]
  },
  {
   "cell_type": "code",
   "execution_count": null,
   "id": "ba21ef6f",
   "metadata": {},
   "outputs": [],
   "source": [
    "info = [['Subarna', 22, 'Dhobighat',10000],\n",
    "       ['Nepal', 23, 'lalitpur',20000],\n",
    "       [\"Ram\",45,\"Bhaktapur\",30000],\n",
    "       ['Hari',80,'Chitwan',40000]]\n",
    "\n"
   ]
  },
  {
   "cell_type": "code",
   "execution_count": null,
   "id": "84c6ef26",
   "metadata": {},
   "outputs": [],
   "source": []
  },
  {
   "cell_type": "code",
   "execution_count": null,
   "id": "d35ccda8",
   "metadata": {},
   "outputs": [],
   "source": []
  }
 ],
 "metadata": {
  "kernelspec": {
   "display_name": "Python 3 (ipykernel)",
   "language": "python",
   "name": "python3"
  },
  "language_info": {
   "codemirror_mode": {
    "name": "ipython",
    "version": 3
   },
   "file_extension": ".py",
   "mimetype": "text/x-python",
   "name": "python",
   "nbconvert_exporter": "python",
   "pygments_lexer": "ipython3",
   "version": "3.11.5"
  }
 },
 "nbformat": 4,
 "nbformat_minor": 5
}
