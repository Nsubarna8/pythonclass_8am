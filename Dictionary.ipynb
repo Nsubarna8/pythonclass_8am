{
 "cells": [
  {
   "cell_type": "code",
   "execution_count": 2,
   "id": "2b6572a0",
   "metadata": {},
   "outputs": [],
   "source": [
    "# Dictionary\n",
    "# -indexing\n",
    "# -orderd\n",
    "# -mutiple data\n",
    "# -Mutable"
   ]
  },
  {
   "cell_type": "code",
   "execution_count": 4,
   "id": "73bb830e",
   "metadata": {},
   "outputs": [
    {
     "name": "stdout",
     "output_type": "stream",
     "text": [
      "{'a': 'Apple', 'b': 'Ball', 'c': 'Cat'}\n"
     ]
    }
   ],
   "source": [
    "# Indexing\n",
    "d = {'a': 'Apple','b': 'Ball','c': 'Cat'}\n",
    "print(d)"
   ]
  },
  {
   "cell_type": "code",
   "execution_count": 5,
   "id": "12ee1558",
   "metadata": {},
   "outputs": [
    {
     "name": "stdout",
     "output_type": "stream",
     "text": [
      "Apple\n"
     ]
    }
   ],
   "source": [
    "print(d['a'])"
   ]
  },
  {
   "cell_type": "code",
   "execution_count": 6,
   "id": "947263e4",
   "metadata": {},
   "outputs": [
    {
     "data": {
      "text/plain": [
       "3"
      ]
     },
     "execution_count": 6,
     "metadata": {},
     "output_type": "execute_result"
    }
   ],
   "source": [
    "len(d)"
   ]
  },
  {
   "cell_type": "code",
   "execution_count": 8,
   "id": "40590593",
   "metadata": {},
   "outputs": [],
   "source": [
    "# # + * yo garna paidaina dictionary ma \n",
    "# {} yo use vako ma "
   ]
  },
  {
   "cell_type": "code",
   "execution_count": 9,
   "id": "45224fbf",
   "metadata": {},
   "outputs": [
    {
     "name": "stdout",
     "output_type": "stream",
     "text": [
      "a\n",
      "b\n",
      "c\n"
     ]
    }
   ],
   "source": [
    "d = {'a': 'Apple','b': 'Ball','c': 'Cat'}\n",
    "for i in d:\n",
    "    print(i)"
   ]
  },
  {
   "cell_type": "code",
   "execution_count": 10,
   "id": "518b9906",
   "metadata": {},
   "outputs": [
    {
     "name": "stdout",
     "output_type": "stream",
     "text": [
      "a b c "
     ]
    }
   ],
   "source": [
    "d = {'a': 'Apple','b': 'Ball','c': 'Cat'}\n",
    "for i in d:\n",
    "    print(i,end = \" \")"
   ]
  },
  {
   "cell_type": "code",
   "execution_count": 12,
   "id": "e04f0260",
   "metadata": {},
   "outputs": [
    {
     "name": "stdout",
     "output_type": "stream",
     "text": [
      "Apple Ball Cat "
     ]
    }
   ],
   "source": [
    "d = {'a': 'Apple','b': 'Ball','c': 'Cat'}\n",
    "for i in d.values():\n",
    "    print(i,end = \" \")"
   ]
  },
  {
   "cell_type": "code",
   "execution_count": 14,
   "id": "1b4107b8",
   "metadata": {},
   "outputs": [
    {
     "name": "stdout",
     "output_type": "stream",
     "text": [
      "('a', 'Apple') ('b', 'Ball') ('c', 'Cat') "
     ]
    }
   ],
   "source": [
    "#tuple pani vaninxa yo bracket ma aako lai aahile lai hami le array vanna pani milxa \n",
    "d = {'a': 'Apple','b': 'Ball','c': 'Cat'}\n",
    "for i in d.items():\n",
    "    print(i,end = \" \")"
   ]
  },
  {
   "cell_type": "code",
   "execution_count": 18,
   "id": "68c2d303",
   "metadata": {},
   "outputs": [
    {
     "data": {
      "text/plain": [
       "{'a': 'Apple', 'b': 'Ball', 'c': 'Cat'}"
      ]
     },
     "execution_count": 18,
     "metadata": {},
     "output_type": "execute_result"
    }
   ],
   "source": [
    "a = [['a', 'Apple'],['b', 'Ball'],['c', 'Cat']]\n",
    "dict(a)"
   ]
  },
  {
   "cell_type": "code",
   "execution_count": 19,
   "id": "a6eb3c17",
   "metadata": {},
   "outputs": [
    {
     "data": {
      "text/plain": [
       "[['a', 'Apple'], ['b', 'Ball'], ['c', 'Cat']]"
      ]
     },
     "execution_count": 19,
     "metadata": {},
     "output_type": "execute_result"
    }
   ],
   "source": [
    "a = [['a', 'Apple'],['b', 'Ball'],['c', 'Cat']]\n",
    "list(a)"
   ]
  },
  {
   "cell_type": "code",
   "execution_count": 27,
   "id": "c4edb7f8",
   "metadata": {},
   "outputs": [
    {
     "data": {
      "text/plain": [
       "{'a': 'Apple', 'b': 'Apple', 'c': 'Apple'}"
      ]
     },
     "execution_count": 27,
     "metadata": {},
     "output_type": "execute_result"
    }
   ],
   "source": [
    "# # create\n",
    "# d = dict()\n",
    "# d = {}  maping ko lagi pani use hunxa\n",
    "d['c'] = \"Apple\"\n",
    "d"
   ]
  },
  {
   "cell_type": "code",
   "execution_count": 28,
   "id": "23cc35e9",
   "metadata": {},
   "outputs": [
    {
     "data": {
      "text/plain": [
       "{'a': 'Apple', 'b': 'Apple', 'c': 'Apple'}"
      ]
     },
     "execution_count": 28,
     "metadata": {},
     "output_type": "execute_result"
    }
   ],
   "source": [
    "d"
   ]
  },
  {
   "cell_type": "code",
   "execution_count": 29,
   "id": "5de3bfd8",
   "metadata": {},
   "outputs": [
    {
     "name": "stdout",
     "output_type": "stream",
     "text": [
      "{'a': 'Apple', 'b': 'Ball', 'c': 'Cat'}\n"
     ]
    }
   ],
   "source": [
    "d = {}\n",
    "d['a'] = 'Apple'\n",
    "d['b'] = 'Ball'\n",
    "d['c'] = 'Cat'\n",
    "print(d)"
   ]
  },
  {
   "cell_type": "code",
   "execution_count": 31,
   "id": "f4a487c6",
   "metadata": {},
   "outputs": [
    {
     "name": "stdout",
     "output_type": "stream",
     "text": [
      "{'a': 'Apple', 'b': 'Ball', 'c': 'Cat', 'e': 'Ant', 'd': 'Dog'}\n"
     ]
    }
   ],
   "source": [
    "a = {'a': 'Apple', 'b': 'Ball', 'c': 'Cat'}\n",
    "d['e'] = 'Ant'\n",
    "d['d'] = 'Dog'\n",
    "print(d)"
   ]
  },
  {
   "cell_type": "code",
   "execution_count": 32,
   "id": "369b5a06",
   "metadata": {},
   "outputs": [
    {
     "name": "stdout",
     "output_type": "stream",
     "text": [
      "{'a': 'Apple', 'b': 'Ball', 'c': 'Cat', 'e': 'Ant'}\n"
     ]
    }
   ],
   "source": [
    "a = {'a': 'Apple', 'b': 'Ball', 'c': 'Cat', 'e': 'Ant', 'd': 'Dog'}\n",
    "del a['d']\n",
    "print(a)"
   ]
  },
  {
   "cell_type": "code",
   "execution_count": 34,
   "id": "49bbe4b8",
   "metadata": {},
   "outputs": [
    {
     "name": "stdout",
     "output_type": "stream",
     "text": [
      "Dog\n",
      "{'a': 'Apple', 'b': 'Ball', 'c': 'Cat', 'e': 'Ant'}\n"
     ]
    }
   ],
   "source": [
    "a = {'a': 'Apple', 'b': 'Ball', 'c': 'Cat', 'e': 'Ant', 'd': 'Dog'}\n",
    "b = a.pop('d')\n",
    "print(b)\n",
    "print(a)"
   ]
  },
  {
   "cell_type": "code",
   "execution_count": 35,
   "id": "d5d8367c",
   "metadata": {},
   "outputs": [],
   "source": [
    "# dictionary ma remove vanne use hudaina "
   ]
  },
  {
   "cell_type": "code",
   "execution_count": 36,
   "id": "157934e7",
   "metadata": {},
   "outputs": [
    {
     "name": "stdout",
     "output_type": "stream",
     "text": [
      "Enter n = 2\n",
      "Enter name = Subarna\n",
      "Enter phone = 9818\n",
      "Enter name = Nepal\n",
      "Enter phone = 61333\n",
      "{9818: 'Subarna', 61333: 'Nepal'}\n"
     ]
    }
   ],
   "source": [
    "d = {}\n",
    "n = int(input(\"Enter n = \"))\n",
    "for i in range(n):\n",
    "    name = input(\"Enter name = \")\n",
    "    phone = int(input(\"Enter phone = \"))\n",
    "    d[phone] = name\n",
    "print(d)"
   ]
  },
  {
   "cell_type": "code",
   "execution_count": 38,
   "id": "8fcfc868",
   "metadata": {},
   "outputs": [
    {
     "name": "stdout",
     "output_type": "stream",
     "text": [
      "Enter n = 2\n",
      "Enter name = Subarna\n",
      "Enter phone = 9861\n",
      "Enter name = Nepal\n",
      "Enter phone = 333\n",
      "{'Subarna': 9861, 'Nepal': 333}\n"
     ]
    }
   ],
   "source": [
    "d = {}\n",
    "n = int(input(\"Enter n = \"))\n",
    "for i in range(n):\n",
    "    name = input(\"Enter name = \")\n",
    "    phone = int(input(\"Enter phone = \"))\n",
    "    d[name] = phone\n",
    "print(d)"
   ]
  },
  {
   "cell_type": "code",
   "execution_count": 39,
   "id": "db9c0dac",
   "metadata": {},
   "outputs": [],
   "source": [
    "# list inside dictionary"
   ]
  },
  {
   "cell_type": "code",
   "execution_count": 41,
   "id": "dc3677c6",
   "metadata": {},
   "outputs": [
    {
     "name": "stdout",
     "output_type": "stream",
     "text": [
      "{'Ram': [9861, 3330], 'Shyam': [90111, 235163]}\n"
     ]
    }
   ],
   "source": [
    "d = {'Ram': [861,3330],\"Shyam\": [90111,235163]}\n",
    "print(d)"
   ]
  },
  {
   "cell_type": "code",
   "execution_count": 42,
   "id": "f88f5e28",
   "metadata": {},
   "outputs": [
    {
     "name": "stdout",
     "output_type": "stream",
     "text": [
      "9861\n"
     ]
    }
   ],
   "source": [
    "print(d['Ram'][0])"
   ]
  },
  {
   "cell_type": "code",
   "execution_count": 45,
   "id": "d290b171",
   "metadata": {},
   "outputs": [
    {
     "name": "stdout",
     "output_type": "stream",
     "text": [
      "Enter n = 2\n",
      "Enter name = Subarna \n",
      "Enter phone = 15456\n",
      "Enter ncell phone = 15485\n",
      "Enter name = Nepal\n",
      "Enter phone = 25648\n",
      "Enter ncell phone = 12548\n",
      "{'Subarna ': [15456, 15485], 'Nepal': [25648, 12548]}\n"
     ]
    }
   ],
   "source": [
    "d = {}\n",
    "n = int(input(\"Enter n = \"))\n",
    "for i in range(n):\n",
    "    name = input(\"Enter name = \")\n",
    "    ntc_phone = int(input(\"Enter phone = \"))\n",
    "    ncell_phone = int(input(\"Enter ncell phone = \"))\n",
    "    d[name] = [ntc_phone,ncell_phone]\n",
    "print(d)"
   ]
  },
  {
   "cell_type": "code",
   "execution_count": 49,
   "id": "ca1f5a68",
   "metadata": {},
   "outputs": [
    {
     "name": "stdout",
     "output_type": "stream",
     "text": [
      "{'name': ['Ram', 'Shyam', 'Hari'], 'ntc_number': [9861, 2331, 215], 'ncell_number': [947516, 1631, 3163]}\n"
     ]
    }
   ],
   "source": [
    "d = {\"name\":[\"Ram\",\"Shyam\",\"Hari\"],\n",
    "    'ntc_number':[9861,2331,215,],\n",
    "    'ncell_number':[947516,1631,3163]}\n",
    "print(d)"
   ]
  },
  {
   "cell_type": "code",
   "execution_count": 53,
   "id": "114aa791",
   "metadata": {},
   "outputs": [
    {
     "name": "stdout",
     "output_type": "stream",
     "text": [
      "Enter n = 2\n",
      "Enter name = Subarna\n",
      "Enter phone = 898\n",
      "Enter ncell phone = 54156\n",
      "Enter name = Subarna\n",
      "Enter phone = 198412\n",
      "Enter ncell phone = 154\n",
      "{'name': ['Subarna', 'Subarna'], 'ntc_number': [898, 198412], 'ncell_number': [54156, 154]}\n"
     ]
    }
   ],
   "source": [
    "d = {'name':[],\n",
    "    \"ntc_number\":[],\n",
    "    \"ncell_number\":[]}\n",
    "n = int(input(\"Enter n = \"))\n",
    "for i in range(n):\n",
    "    name = input(\"Enter name = \")\n",
    "    ntc_number = int(input(\"Enter phone = \"))\n",
    "    ncell_number = int(input(\"Enter ncell phone = \"))\n",
    "    d['name'].append(name)\n",
    "    d['ntc_number'].append(ntc_number)\n",
    "    d[\"ncell_number\"].append(ncell_number)\n",
    "print(d)\n",
    "    "
   ]
  },
  {
   "cell_type": "code",
   "execution_count": 55,
   "id": "3b9a1877",
   "metadata": {},
   "outputs": [
    {
     "name": "stdout",
     "output_type": "stream",
     "text": [
      "Subarna 898 54156\n"
     ]
    }
   ],
   "source": [
    "print(d['name'][0],d[\"ntc_number\"][0],d[\"ncell_number\"][0])"
   ]
  },
  {
   "cell_type": "code",
   "execution_count": 58,
   "id": "dfe15d0b",
   "metadata": {},
   "outputs": [
    {
     "data": {
      "text/plain": [
       "[{'name': 'Ram', 'age': 34, 'address': 'kathmandu'},\n",
       " {'name': 'Shyam', 'age': 24, 'address': 'Lalitpur'},\n",
       " {'name': 'Hari', 'age': 54, 'address': 'Bhaktpur'}]"
      ]
     },
     "execution_count": 58,
     "metadata": {},
     "output_type": "execute_result"
    }
   ],
   "source": [
    "# dict inside list\n",
    "d = [{\"name\":\"Ram\",\"age\":34,\"address\":\"kathmandu\"},\n",
    "    {\"name\":\"Shyam\",\"age\":24,\"address\":\"Lalitpur\"},\n",
    "    {\"name\":\"Hari\",\"age\":54,\"address\":\"Bhaktpur\"}]\n",
    "\n",
    "d"
   ]
  },
  {
   "cell_type": "code",
   "execution_count": 60,
   "id": "fdd5337a",
   "metadata": {},
   "outputs": [
    {
     "name": "stdout",
     "output_type": "stream",
     "text": [
      "Enter n = 2\n",
      "Enter name = Subarna \n",
      "Enter phone = 89841\n",
      "Enter ncell phone = 63213\n",
      "Enter name = Nepal\n",
      "Enter phone = 165310\n",
      "Enter ncell phone = 1023.\n",
      "[{'name': 'Subarna ', 'age': 89841, 'add': '63213'}, {'name': 'Nepal', 'age': 165310, 'add': '1023.'}]\n"
     ]
    }
   ],
   "source": [
    "d = []\n",
    "n = int(input(\"Enter n = \"))\n",
    "for i in range(n):\n",
    "    name = input(\"Enter name = \")\n",
    "    age = int(input(\"Enter phone = \"))\n",
    "    add = input(\"Enter ncell phone = \")\n",
    "    x = {'name':name,'age':age,\"add\":add}\n",
    "    d.append(x)\n",
    "print(d)\n",
    "    "
   ]
  },
  {
   "cell_type": "code",
   "execution_count": 3,
   "id": "1509ae08",
   "metadata": {},
   "outputs": [
    {
     "name": "stdout",
     "output_type": "stream",
     "text": [
      "<class 'dict'>\n"
     ]
    }
   ],
   "source": [
    "# dict inside dict\n",
    "d = {1:{'name': 'Ram', 'age': 34, 'address': 'kathmandu'},\n",
    "     2:{'name': 'Shyam', 'age': 24, 'address': 'Lalitpur'},\n",
    "     3:{'name': 'Hari', 'age': 54, 'address': 'Bhaktpur'}}\n",
    "print(type(d))"
   ]
  },
  {
   "cell_type": "code",
   "execution_count": 5,
   "id": "81d6c302",
   "metadata": {},
   "outputs": [
    {
     "name": "stdout",
     "output_type": "stream",
     "text": [
      "Enter n = 2\n",
      "Enter name = Subarna\n",
      "Enter age = 24\n",
      "Enter add = bkt\n",
      "Enter name = Nepal\n",
      "Enter age = 22\n",
      "Enter add = ktm\n",
      "{1: {'name': 'Subarna', 'age': 24, 'add': 'bkt'}, 2: {'name': 'Nepal', 'age': 22, 'add': 'ktm'}}\n"
     ]
    }
   ],
   "source": [
    "d = {}\n",
    "n = int(input(\"Enter n = \"))\n",
    "for i in range(1,n+1):\n",
    "    name = input(\"Enter name = \")\n",
    "    age = int(input(\"Enter age = \"))\n",
    "    add = input(\"Enter add = \")\n",
    "    x = {'name':name,'age':age,\"add\":add}\n",
    "    d[i] = x\n",
    "print(d)"
   ]
  },
  {
   "cell_type": "code",
   "execution_count": 6,
   "id": "1934c5cf",
   "metadata": {},
   "outputs": [
    {
     "data": {
      "text/plain": [
       "'Subarna'"
      ]
     },
     "execution_count": 6,
     "metadata": {},
     "output_type": "execute_result"
    }
   ],
   "source": [
    "    d[1]['name']"
   ]
  },
  {
   "cell_type": "code",
   "execution_count": 7,
   "id": "17c40510",
   "metadata": {},
   "outputs": [
    {
     "data": {
      "text/plain": [
       "24"
      ]
     },
     "execution_count": 7,
     "metadata": {},
     "output_type": "execute_result"
    }
   ],
   "source": [
    "d[1]['age']"
   ]
  },
  {
   "cell_type": "code",
   "execution_count": 9,
   "id": "40d06434",
   "metadata": {},
   "outputs": [
    {
     "data": {
      "text/plain": [
       "{1: {'name': 'Ram Prasad', 'age': 24, 'add': 'bkt'},\n",
       " 2: {'name': 'Nepal', 'age': 22, 'add': 'ktm'}}"
      ]
     },
     "execution_count": 9,
     "metadata": {},
     "output_type": "execute_result"
    }
   ],
   "source": [
    "d[1]['name'] = \"Ram Prasad\"\n",
    "d"
   ]
  },
  {
   "cell_type": "code",
   "execution_count": 10,
   "id": "7564370a",
   "metadata": {},
   "outputs": [
    {
     "data": {
      "text/plain": [
       "{2: {'name': 'Nepal', 'age': 22, 'add': 'ktm'}}"
      ]
     },
     "execution_count": 10,
     "metadata": {},
     "output_type": "execute_result"
    }
   ],
   "source": [
    "a = {1: {'name': 'Ram Prasad', 'age': 24, 'add': 'bkt'},\n",
    "     2: {'name': 'Nepal', 'age': 22, 'add': 'ktm'}}\n",
    "del a[1]\n",
    "a"
   ]
  },
  {
   "cell_type": "code",
   "execution_count": 12,
   "id": "9a729fd7",
   "metadata": {},
   "outputs": [
    {
     "data": {
      "text/plain": [
       "{2: {'name': 'Nepal', 'age': 22, 'add': 'ktm'}}"
      ]
     },
     "execution_count": 12,
     "metadata": {},
     "output_type": "execute_result"
    }
   ],
   "source": [
    "a = {1: {'name': 'Ram Prasad', 'age': 24, 'add': 'bkt'},\n",
    "     2: {'name': 'Nepal', 'age': 22, 'add': 'ktm'}}\n",
    "del a[1]\n",
    "a"
   ]
  },
  {
   "cell_type": "code",
   "execution_count": 17,
   "id": "33f5f9fa",
   "metadata": {},
   "outputs": [
    {
     "data": {
      "text/plain": [
       "{1: {'name': 'Ram Prasad', 'age': 24, 'add': {'per': 'bkt', 'Temp': 'Rampur'}},\n",
       " 2: {'name': 'Nepal', 'age': 22, 'add': 'ktm'}}"
      ]
     },
     "execution_count": 17,
     "metadata": {},
     "output_type": "execute_result"
    }
   ],
   "source": [
    "a = {1: {'name': 'Ram Prasad', 'age': 24, 'add':{\"per\": 'bkt',\"Temp\": \"Rampur\"}},\n",
    "     2: {'name': 'Nepal', 'age': 22, 'add': 'ktm'}}\n",
    "\n",
    "a"
   ]
  },
  {
   "cell_type": "code",
   "execution_count": null,
   "id": "6824ee50",
   "metadata": {},
   "outputs": [],
   "source": []
  },
  {
   "cell_type": "code",
   "execution_count": null,
   "id": "72f67d02",
   "metadata": {},
   "outputs": [],
   "source": []
  }
 ],
 "metadata": {
  "kernelspec": {
   "display_name": "Python 3 (ipykernel)",
   "language": "python",
   "name": "python3"
  },
  "language_info": {
   "codemirror_mode": {
    "name": "ipython",
    "version": 3
   },
   "file_extension": ".py",
   "mimetype": "text/x-python",
   "name": "python",
   "nbconvert_exporter": "python",
   "pygments_lexer": "ipython3",
   "version": "3.11.5"
  }
 },
 "nbformat": 4,
 "nbformat_minor": 5
}
