{
 "cells": [
  {
   "cell_type": "code",
   "execution_count": null,
   "id": "ae9f5dd0",
   "metadata": {},
   "outputs": [],
   "source": [
    "# if <condition>:\n",
    "#     <operation>\n",
    "# elif <condition>:\n",
    "#     <operation>\n",
    "# ...\n",
    "\n",
    "# else:\n",
    "#     <operation>\n",
    "    "
   ]
  },
  {
   "cell_type": "code",
   "execution_count": null,
   "id": "e6f0736e",
   "metadata": {},
   "outputs": [],
   "source": []
  },
  {
   "cell_type": "code",
   "execution_count": null,
   "id": "f13de540",
   "metadata": {},
   "outputs": [],
   "source": [
    "a = 10\n",
    "a > 0"
   ]
  },
  {
   "cell_type": "code",
   "execution_count": null,
   "id": "d2c8f18b",
   "metadata": {},
   "outputs": [],
   "source": [
    "a = int(input(\"enter a = \"))\n",
    "if a >= 0:\n",
    "    print(\"The value is +ve\")\n",
    "else:\n",
    "    print(\"The no is -ve\")"
   ]
  },
  {
   "cell_type": "code",
   "execution_count": null,
   "id": "cdcece13",
   "metadata": {},
   "outputs": [],
   "source": [
    "a = int(input(\"enter a = \"))\n",
    "if a >= 0:\n",
    "    print(\"The value is +ve\")\n",
    "else:\n",
    "    print(\"The no is -ve\")"
   ]
  },
  {
   "cell_type": "code",
   "execution_count": null,
   "id": "aeeb36da",
   "metadata": {},
   "outputs": [],
   "source": [
    "# a = 10\n",
    "# a%2  If 0 appers then its even and if its on value 1 then its odd"
   ]
  },
  {
   "cell_type": "code",
   "execution_count": null,
   "id": "40e38146",
   "metadata": {},
   "outputs": [],
   "source": [
    "# a = 11\n",
    "# a%2 ==0  If false apper then its odd and true appers then its even"
   ]
  },
  {
   "cell_type": "code",
   "execution_count": null,
   "id": "6c96b7eb",
   "metadata": {},
   "outputs": [],
   "source": [
    "a = int(input(\"Enter a = \"))\n",
    "if a%2==0:\n",
    "    print(a,\"is even\")\n",
    "else:\n",
    "    print(a,\"is odd\")"
   ]
  },
  {
   "cell_type": "code",
   "execution_count": null,
   "id": "77a2845d",
   "metadata": {},
   "outputs": [],
   "source": [
    "a = int(input(\"Enter a = \"))\n",
    "b = int(input(\"Enter a = \"))\n",
    "if a>b:\n",
    "    print(a,\"is greater than\",b)\n",
    "elif b>a:\n",
    "    print(b,\"is greater than\",a)\n",
    "else:\n",
    "    print(\"both are equal\")"
   ]
  },
  {
   "cell_type": "code",
   "execution_count": null,
   "id": "24bf98ce",
   "metadata": {},
   "outputs": [],
   "source": [
    "a = int(input(\"Enter a = \"))\n",
    "b = int(input(\"Enter a = \"))\n",
    "if a>b:\n",
    "    print(a,\"is greater than\",b)\n",
    "elif b>a:\n",
    "    print(b,\"is greater than\",a)\n",
    "else:\n",
    "    print(\"both are equal\")"
   ]
  },
  {
   "cell_type": "code",
   "execution_count": null,
   "id": "9fca5d57",
   "metadata": {},
   "outputs": [],
   "source": [
    "a = int(input(\"Enter a = \"))\n",
    "b = int(input(\"Enter a = \"))\n",
    "o = input(\"Enter + or - or * or / \")\n",
    "if o == \"+\":\n",
    "    print(a+b)\n",
    "elif o == \"-\":\n",
    "    print(a-b)\n",
    "elif o == \"*\":\n",
    "    print(a*b)\n",
    "elif o == \"/\":\n",
    "    print(a/b)\n",
    "else:\n",
    "    print(\"Enter valid operator\")"
   ]
  },
  {
   "cell_type": "code",
   "execution_count": 1,
   "id": "54c4a82d",
   "metadata": {},
   "outputs": [
    {
     "name": "stdout",
     "output_type": "stream",
     "text": [
      "Enter a = 10\n",
      "Enter a = 20\n",
      "Enter + or - or * or / +\n",
      "30\n"
     ]
    }
   ],
   "source": [
    "a = int(input(\"Enter a = \"))\n",
    "b = int(input(\"Enter a = \"))\n",
    "o = input(\"Enter + or - or * or / \")\n",
    "if o == \"+\":\n",
    "    print(a+b)\n",
    "elif o == \"-\":\n",
    "    print(a-b)\n",
    "elif o == \"*\":\n",
    "    print(a*b)\n",
    "elif o == \"/\":\n",
    "    print(a/b)\n",
    "else:\n",
    "    print(\"Enter valid operator\")"
   ]
  },
  {
   "cell_type": "code",
   "execution_count": null,
   "id": "e9833a7a",
   "metadata": {},
   "outputs": [],
   "source": [
    "# and &   \n",
    "\n",
    "# or |\n",
    "\n",
    "# not"
   ]
  },
  {
   "cell_type": "code",
   "execution_count": null,
   "id": "aefabee0",
   "metadata": {},
   "outputs": [],
   "source": [
    "# and similer to *\n",
    "print(True and True)\n",
    "print(True and False)\n",
    "print(False and True)\n",
    "print(False and False)"
   ]
  },
  {
   "cell_type": "code",
   "execution_count": null,
   "id": "5c1914c7",
   "metadata": {},
   "outputs": [],
   "source": [
    "# or  similer to +\n",
    "print(True or True)\n",
    "print(True or False)\n",
    "print(False or True)\n",
    "print(False or False)"
   ]
  },
  {
   "cell_type": "code",
   "execution_count": null,
   "id": "e14bd294",
   "metadata": {},
   "outputs": [],
   "source": [
    "a = int(input(\"Enter a = \"))\n",
    "b = int(input(\"Enter a = \"))\n",
    "o = input(\"Enter + or - or * or / \")\n",
    "if o == \"+\":\n",
    "    print(a+b)\n",
    "elif o == \"-\":\n",
    "    print(a-b)\n",
    "elif o == \"*\":\n",
    "    print(a*b)\n",
    "elif o == \"/\" and (b != 0):\n",
    "    print(a/b)\n",
    "elif o == \"/\" and (b == 0):\n",
    "    print(\"The value if b can't be zero when o is /\")\n",
    "else:\n",
    "    print(\"Enter valid operator\")"
   ]
  },
  {
   "cell_type": "code",
   "execution_count": null,
   "id": "dd38d4be",
   "metadata": {},
   "outputs": [],
   "source": [
    "a = int(input(\"Enter a = \"))\n",
    "b = int(input(\"Enter a = \"))\n",
    "o = input(\"Enter + or - or * or / \")\n",
    "if o == \"+\":\n",
    "    print(a+b)\n",
    "elif o == \"-\":\n",
    "    print(a-b)\n",
    "elif o == \"*\":\n",
    "    print(a*b)\n",
    "elif o == \"/\" and (b != 0):\n",
    "    print(a/b)\n",
    "elif o == \"/\" and (b == 0):\n",
    "    print(\"The value if b can't be zero when o is /\")\n",
    "else:\n",
    "    print(\"Enter valid operator\")"
   ]
  },
  {
   "cell_type": "code",
   "execution_count": null,
   "id": "c23b2d31",
   "metadata": {},
   "outputs": [],
   "source": [
    "Physic = int(input(\"Enter Physic = \"))\n",
    "Chemistry = int(input(\"Enter Chemistry = \"))\n",
    "Math = int(input(\"Enter Math = \"))\n",
    "English = int(input(\"Enter English = \"))\n",
    "Nepali = int(input(\"Enter Nepali = \"))\n",
    "\n",
    "total = Physic + Chemistry + Math + English + Nepali \n",
    "percentage = total/5\n",
    "\n",
    "if percentage >= 80:\n",
    "    grade = \"A\"\n",
    "elif percentage >= 60:\n",
    "    grade = \"B\"\n",
    "elif percentage >= 45:\n",
    "    grade = \"C\"\n",
    "else:\n",
    "    grdae = \"F\"\n",
    "    \n",
    "print(\"The total value is \",total)"
   ]
  },
  {
   "cell_type": "raw",
   "id": "0397b2b9",
   "metadata": {},
   "source": [
    "Physic = int(input(\"Enter Physic = \"))\n",
    "Chemistry = int(input(\"Enter Chemistry = \"))\n",
    "Math = int(input(\"Enter Math = \"))\n",
    "English = int(input(\"Enter English = \"))\n",
    "Nepali = int(input(\"Enter Nepali = \"))\n",
    "\n",
    "total = Physic + Chemistry + Math + English + Nepali \n",
    "percentage = total/5\n",
    "\n",
    "if percentage >= 80:\n",
    "    grade = \"A\"\n",
    "elif percentage >= 60:\n",
    "    grade = \"B\"\n",
    "elif percentage >= 45:\n",
    "    grade = \"C\"\n",
    "else:\n",
    "    grdae = \"F\"\n",
    "    \n",
    "print(\"The total value is = \",total)\n",
    "print(\"The percentage = \",percentage)\n",
    "print(\"The grade = \",grade)"
   ]
  },
  {
   "cell_type": "code",
   "execution_count": null,
   "id": "f6cf18c0",
   "metadata": {},
   "outputs": [],
   "source": [
    "#  Nested if else\n",
    "# # if <condition>:\n",
    "# #     if <condition>:\n",
    "# #         <operation>\n",
    "# #         else:\n",
    "# #             <operation>\n",
    "# # else:\n",
    "# #     <operation>"
   ]
  },
  {
   "cell_type": "code",
   "execution_count": null,
   "id": "ec640271",
   "metadata": {},
   "outputs": [],
   "source": [
    "a = int(input(\"Enter a = \"))\n",
    "b = int(input(\"Enter a = \"))\n",
    "o = input(\"Enter + or - or * or / \")\n",
    "if o == \"+\":\n",
    "    print(a+b)\n",
    "elif o == \"-\":\n",
    "    print(a-b)\n",
    "elif o == \"*\":\n",
    "    print(a*b)\n",
    "elif o == \"/\" \n",
    "    if (b != 0:\n",
    "    print(a/b)\n",
    "elif \n",
    "    print(\"The value if b can't be zero when o is /\")\n",
    "else:\n",
    "    print(\"Enter valid operator\")"
   ]
  },
  {
   "cell_type": "code",
   "execution_count": null,
   "id": "9ccd5089",
   "metadata": {},
   "outputs": [],
   "source": [
    "a = int(input(\"Enter a = \"))\n",
    "b = int(input(\"Enter a = \"))\n",
    "o = input(\"Enter + or - or * or / \")\n",
    "if o == \"+\":\n",
    "    print(a+b)\n",
    "elif o == \"-\":\n",
    "    print(a-b)\n",
    "elif o == \"*\":\n",
    "    print(a*b)\n",
    "elif o == \"/\" and (b != 0):\n",
    "    print(a/b)\n",
    "elif o == \"/\" and (b == 0):\n",
    "    print(\"The value if b can't be zero when o is /\")\n",
    "else:\n",
    "    print(\"Enter valid operator\")"
   ]
  },
  {
   "cell_type": "code",
   "execution_count": null,
   "id": "01a85bf5",
   "metadata": {},
   "outputs": [],
   "source": [
    "Physic = int(input(\"Enter Physic = \"))\n",
    "Chemistry = int(input(\"Enter Chemistry = \"))\n",
    "Math = int(input(\"Enter Math = \"))\n",
    "English = int(input(\"Enter English = \"))\n",
    "Nepali = int(input(\"Enter Nepali = \"))\n",
    "\n",
    "total = Physic + Chemistry + Math + English + Nepali \n",
    "percentage = total/5\n",
    "\n",
    "if percentage >80 or percentage == 80:\n",
    "    grade = \"A\"\n",
    "elif percentage >60 or percentage == 60:\n",
    "    grade = \"B\"\n",
    "elif percentage >45 or percentage == 45:\n",
    "    grade = \"C\"\n",
    "else:\n",
    "    grdae = \"F\"\n",
    "    \n",
    "print(\"The total value is \",total)\n",
    "print(\"The percentage = \",percentage)\n",
    "print(\"The grade = \", grade)"
   ]
  },
  {
   "cell_type": "code",
   "execution_count": 1,
   "id": "ac1696d0",
   "metadata": {},
   "outputs": [
    {
     "name": "stdout",
     "output_type": "stream",
     "text": [
      "Enter Physic = 25\n",
      "Enter Chemistry = 25\n",
      "Enter Math = 25\n",
      "Enter English = 25\n",
      "Enter Nepali = 1\n"
     ]
    }
   ],
   "source": [
    "Physic = int(input(\"Enter Physic = \"))\n",
    "Chemistry = int(input(\"Enter Chemistry = \"))\n",
    "Math = int(input(\"Enter Math = \"))\n",
    "English = int(input(\"Enter English = \"))\n",
    "Nepali = int(input(\"Enter Nepali = \"))\n",
    "if Physic >= 35 and Chemistry >= 35 and Math >= 35 and English >=35 and Nepali >=35:\n",
    "    total = Physic + Chemistry + Math + English + Nepali \n",
    "    percentage = total/5\n",
    "\n",
    "    if percentage >80 or percentage == 80:\n",
    "        grade = \"A\"\n",
    "    elif percentage >60 or percentage == 60:\n",
    "        grade = \"B\"\n",
    "    elif percentage >45 or percentage == 45:\n",
    "        grade = \"C\"\n",
    "    else:\n",
    "        grdae = \"F\"\n",
    "\n",
    "    print(\"The total value is \",total)\n",
    "    print(\"The percentage = \",percentage)\n",
    "    print(\"The grade = \", grade)\n",
    "    print(\"grade = \", 'F')"
   ]
  },
  {
   "cell_type": "code",
   "execution_count": 4,
   "id": "c3e6a3d8",
   "metadata": {},
   "outputs": [
    {
     "name": "stdout",
     "output_type": "stream",
     "text": [
      "Enter Physic = 28\n",
      "Enter Chemistry = 58\n",
      "Enter Math = 36\n",
      "Enter English = 98\n",
      "Enter Nepali = 45\n",
      "grade =  F\n"
     ]
    }
   ],
   "source": [
    "Physic = int(input(\"Enter Physic = \"))\n",
    "Chemistry = int(input(\"Enter Chemistry = \"))\n",
    "Math = int(input(\"Enter Math = \"))\n",
    "English = int(input(\"Enter English = \"))\n",
    "Nepali = int(input(\"Enter Nepali = \"))\n",
    "if Physic >= 35 and Chemistry >= 35 and Math >= 35 and English >=35 and Nepali >=35:\n",
    "    total = Physic + Chemistry + Math + English + Nepali \n",
    "    percentage = total/5\n",
    "\n",
    "    if percentage >80 or percentage == 80:\n",
    "        grade = \"A\"\n",
    "    elif percentage >60 or percentage == 60:\n",
    "        grade = \"B\"\n",
    "    elif percentage >45 or percentage == 45:\n",
    "        grade = \"C\"\n",
    "    else:\n",
    "        grdae = \"F\"\n",
    "\n",
    "    print(\"The total value is \",total)\n",
    "    print(\"The percentage = \",percentage)\n",
    "    print(\"The grade = \", grade)\n",
    "else:\n",
    "    print(\"grade = \", \"F\")"
   ]
  },
  {
   "cell_type": "code",
   "execution_count": null,
   "id": "fc32acbc",
   "metadata": {},
   "outputs": [],
   "source": []
  }
 ],
 "metadata": {
  "kernelspec": {
   "display_name": "Python 3 (ipykernel)",
   "language": "python",
   "name": "python3"
  },
  "language_info": {
   "codemirror_mode": {
    "name": "ipython",
    "version": 3
   },
   "file_extension": ".py",
   "mimetype": "text/x-python",
   "name": "python",
   "nbconvert_exporter": "python",
   "pygments_lexer": "ipython3",
   "version": "3.11.5"
  }
 },
 "nbformat": 4,
 "nbformat_minor": 5
}
