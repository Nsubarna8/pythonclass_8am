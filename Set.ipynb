{
 "cells": [
  {
   "cell_type": "code",
   "execution_count": 15,
   "id": "dd2dbb56",
   "metadata": {},
   "outputs": [],
   "source": [
    "# # Set\n",
    "# -No indexing\n",
    "# -Unordered\n",
    "# -multiple data but no duplicate\n",
    "# -Mutable\n",
    "# concate hudaina (add multiple divide)"
   ]
  },
  {
   "cell_type": "code",
   "execution_count": 3,
   "id": "81ae3ec2",
   "metadata": {},
   "outputs": [],
   "source": [
    "a = set()"
   ]
  },
  {
   "cell_type": "code",
   "execution_count": 4,
   "id": "4c7ecb01",
   "metadata": {},
   "outputs": [
    {
     "name": "stdout",
     "output_type": "stream",
     "text": [
      "{'Dog', 'Ball', 'Apple', 'cat'}\n"
     ]
    }
   ],
   "source": [
    "a = {'Apple','Ball','cat','Dog'}\n",
    "print(a)"
   ]
  },
  {
   "cell_type": "code",
   "execution_count": 6,
   "id": "e4d5b15a",
   "metadata": {},
   "outputs": [
    {
     "ename": "TypeError",
     "evalue": "'set' object is not subscriptable",
     "output_type": "error",
     "traceback": [
      "\u001b[1;31m---------------------------------------------------------------------------\u001b[0m",
      "\u001b[1;31mTypeError\u001b[0m                                 Traceback (most recent call last)",
      "Cell \u001b[1;32mIn[6], line 1\u001b[0m\n\u001b[1;32m----> 1\u001b[0m \u001b[38;5;28mprint\u001b[39m(a[\u001b[38;5;241m0\u001b[39m])\n",
      "\u001b[1;31mTypeError\u001b[0m: 'set' object is not subscriptable"
     ]
    }
   ],
   "source": [
    "print(a[0])"
   ]
  },
  {
   "cell_type": "code",
   "execution_count": 7,
   "id": "ed7261ee",
   "metadata": {},
   "outputs": [
    {
     "name": "stdout",
     "output_type": "stream",
     "text": [
      "{'Dog', 'Ball', 'Apple', 'cat'}\n"
     ]
    }
   ],
   "source": [
    "print(a)"
   ]
  },
  {
   "cell_type": "code",
   "execution_count": 9,
   "id": "8bb2cff6",
   "metadata": {},
   "outputs": [
    {
     "name": "stdout",
     "output_type": "stream",
     "text": [
      "{'Dog', 'Ball', 'Apple', 'cat'}\n"
     ]
    }
   ],
   "source": [
    "a = {'Apple','Ball','cat','Dog','Apple'}\n",
    "print(a)"
   ]
  },
  {
   "cell_type": "code",
   "execution_count": 10,
   "id": "2493236e",
   "metadata": {},
   "outputs": [
    {
     "name": "stdout",
     "output_type": "stream",
     "text": [
      "Dog\n",
      "Ball\n",
      "Apple\n",
      "cat\n"
     ]
    }
   ],
   "source": [
    "a = {'Apple','Ball','cat','Dog'}\n",
    "for i in a:\n",
    "    print(i)"
   ]
  },
  {
   "cell_type": "code",
   "execution_count": 11,
   "id": "40debd83",
   "metadata": {},
   "outputs": [
    {
     "name": "stdout",
     "output_type": "stream",
     "text": [
      "<class 'set'>\n"
     ]
    }
   ],
   "source": [
    "s = {1,2,3}\n",
    "print(type(s))"
   ]
  },
  {
   "cell_type": "code",
   "execution_count": 14,
   "id": "3934689b",
   "metadata": {},
   "outputs": [
    {
     "name": "stdout",
     "output_type": "stream",
     "text": [
      "{'Cat', 'Ball', 'Apple'}\n"
     ]
    }
   ],
   "source": [
    "s = set()\n",
    "s.add(\"Apple\")\n",
    "s.add(\"Ball\")\n",
    "s.add(\"Cat\")\n",
    "print(s)"
   ]
  },
  {
   "cell_type": "code",
   "execution_count": 17,
   "id": "3d672405",
   "metadata": {},
   "outputs": [
    {
     "name": "stdout",
     "output_type": "stream",
     "text": [
      "{1, 2, 3, 4, 5, 6, 7, 8, 9}\n"
     ]
    }
   ],
   "source": [
    "a = {1,2,3,4,5}\n",
    "a.update({6,7,8,9})\n",
    "print(a)"
   ]
  },
  {
   "cell_type": "code",
   "execution_count": 18,
   "id": "77359dfb",
   "metadata": {},
   "outputs": [
    {
     "name": "stdout",
     "output_type": "stream",
     "text": [
      "{1, 3, 4, 5, 6, 7, 8, 9}\n"
     ]
    }
   ],
   "source": [
    "a = {1, 2, 3, 4, 5, 6, 7, 8, 9}\n",
    "a.remove(2)\n",
    "print(a)"
   ]
  },
  {
   "cell_type": "code",
   "execution_count": 21,
   "id": "78f37c0c",
   "metadata": {},
   "outputs": [
    {
     "data": {
      "text/plain": [
       "[1, 2, 3, 4, 5, 6, 7, 8]"
      ]
     },
     "execution_count": 21,
     "metadata": {},
     "output_type": "execute_result"
    }
   ],
   "source": [
    "a = [1,2,3,4,5,6,7,8,1,1,2,3,4,5,]\n",
    "a = set(a)\n",
    "a = list(a)\n",
    "a"
   ]
  },
  {
   "cell_type": "code",
   "execution_count": 22,
   "id": "4d22502b",
   "metadata": {},
   "outputs": [
    {
     "name": "stdout",
     "output_type": "stream",
     "text": [
      "{9, 7}\n"
     ]
    }
   ],
   "source": [
    "a = {1,3,5,7,9}\n",
    "b = {6,7,8,9,10}\n",
    "i = a.intersection(b)\n",
    "print(i)"
   ]
  },
  {
   "cell_type": "code",
   "execution_count": 28,
   "id": "f25f0c45",
   "metadata": {},
   "outputs": [
    {
     "name": "stdout",
     "output_type": "stream",
     "text": [
      "{1, 3, 5, 6, 7, 8, 9, 10}\n"
     ]
    }
   ],
   "source": [
    "u = a.union(b)\n",
    "print(u)"
   ]
  },
  {
   "cell_type": "code",
   "execution_count": 31,
   "id": "b0010628",
   "metadata": {},
   "outputs": [],
   "source": [
    "U = {1,2,3,4,5,6,7,8,9,10}  # Universal Set"
   ]
  },
  {
   "cell_type": "code",
   "execution_count": 32,
   "id": "56460209",
   "metadata": {},
   "outputs": [
    {
     "name": "stdout",
     "output_type": "stream",
     "text": [
      "{2, 4}\n"
     ]
    }
   ],
   "source": [
    "print(U-u)"
   ]
  },
  {
   "cell_type": "code",
   "execution_count": 44,
   "id": "be567cc6",
   "metadata": {},
   "outputs": [
    {
     "name": "stdout",
     "output_type": "stream",
     "text": [
      "{'Job', 'Steave'}\n",
      "{'Nabin', 'Subarna', 'Nepal', 'Job', 'hannry', 'Steave', 'Robin'}\n",
      "{'Robin', 'Nabin', 'hannry'}\n",
      "{'Subarna', 'Nepal'}\n",
      "{'xyz'}\n"
     ]
    }
   ],
   "source": [
    "U = {'Nabin', 'Subarna', 'Nepal', 'Job', 'hannry', 'Steave', 'Robin','xyz'}\n",
    "Apple = {\"Steave\",\"Job\",\"Robin\",\"Nabin\",\"hannry\"}\n",
    "Ms = {\"Steave\",\"Job\",\"Subarna\",\"Nepal\"}\n",
    "\n",
    "Am = Apple.intersection(Ms)\n",
    "print(Am)\n",
    "\n",
    "un = Apple.union(Ms)\n",
    "print(un)\n",
    "\n",
    "ap = Apple-Ms\n",
    "print(ap)\n",
    "\n",
    "ab = Ms-Apple\n",
    "print(ab)\n",
    "\n",
    "print(U-un)"
   ]
  },
  {
   "cell_type": "code",
   "execution_count": 60,
   "id": "8f02c1f4",
   "metadata": {},
   "outputs": [
    {
     "name": "stdout",
     "output_type": "stream",
     "text": [
      "{'Django', 'python'}\n",
      "2\n",
      "6\n"
     ]
    }
   ],
   "source": [
    "Job = {\"python\",\"Restapi\",\"Django\",\"ml\",\"tensorflow\",\"pytorch\"}\n",
    "Profile = {\"python\",\"Django\",\"Html\",\"Css\"}\n",
    "\n",
    "Skill = Job.intersection(Profile)\n",
    "print(Skill)\n",
    "print(len(Skill))\n",
    "\n",
    "len_Job_Skill = len(Job)\n",
    "print(len_Job_Skill)\n",
    "\n"
   ]
  },
  {
   "cell_type": "code",
   "execution_count": 64,
   "id": "6e72d4b8",
   "metadata": {},
   "outputs": [
    {
     "name": "stdout",
     "output_type": "stream",
     "text": [
      "False\n",
      "True\n"
     ]
    }
   ],
   "source": [
    "Job = {\"python\",\"Restapi\",\"Django\",\"ml\",\"tensorflow\",\"pytorch\"}\n",
    "Profile = {\"python\",\"Django\"}\n",
    "\n",
    "print(Profile.issuperset(Job))\n",
    "print(Profile.issubset(Job))"
   ]
  },
  {
   "cell_type": "code",
   "execution_count": null,
   "id": "ec7bf072",
   "metadata": {},
   "outputs": [],
   "source": []
  },
  {
   "cell_type": "code",
   "execution_count": null,
   "id": "965beb0d",
   "metadata": {},
   "outputs": [],
   "source": []
  }
 ],
 "metadata": {
  "kernelspec": {
   "display_name": "Python 3 (ipykernel)",
   "language": "python",
   "name": "python3"
  },
  "language_info": {
   "codemirror_mode": {
    "name": "ipython",
    "version": 3
   },
   "file_extension": ".py",
   "mimetype": "text/x-python",
   "name": "python",
   "nbconvert_exporter": "python",
   "pygments_lexer": "ipython3",
   "version": "3.11.5"
  }
 },
 "nbformat": 4,
 "nbformat_minor": 5
}
