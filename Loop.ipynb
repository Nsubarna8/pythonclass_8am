{
 "cells": [
  {
   "cell_type": "code",
   "execution_count": null,
   "id": "0fb7920d",
   "metadata": {},
   "outputs": [],
   "source": [
    "# loop\n",
    "# for loop\n",
    "# white loop"
   ]
  },
  {
   "cell_type": "code",
   "execution_count": null,
   "id": "90471dc0",
   "metadata": {},
   "outputs": [],
   "source": [
    "# for loop\n",
    "range(5) # 0,1,2,3,4 # Function\n",
    "range(1,5) # 1,2,3,4\n",
    "range() # Range vitra int martai janxa \n",
    "range(1,10,2) # 1,3,5,7,9  # 1+2 ko case ma janxa \n"
   ]
  },
  {
   "cell_type": "code",
   "execution_count": 2,
   "id": "d56b43d7",
   "metadata": {},
   "outputs": [
    {
     "name": "stdout",
     "output_type": "stream",
     "text": [
      "0 hello world\n",
      "1 hello world\n",
      "2 hello world\n",
      "3 hello world\n",
      "4 hello world\n"
     ]
    }
   ],
   "source": [
    "for i in range(5):\n",
    "    print(i,\"hello world\")"
   ]
  },
  {
   "cell_type": "code",
   "execution_count": 3,
   "id": "9f7682da",
   "metadata": {},
   "outputs": [
    {
     "name": "stdout",
     "output_type": "stream",
     "text": [
      "1 hello world\n",
      "2 hello world\n",
      "3 hello world\n",
      "4 hello world\n"
     ]
    }
   ],
   "source": [
    "for i in range(1,5):\n",
    "    print(i,\"hello world\")"
   ]
  },
  {
   "cell_type": "code",
   "execution_count": 4,
   "id": "b61bce8f",
   "metadata": {},
   "outputs": [
    {
     "name": "stdout",
     "output_type": "stream",
     "text": [
      "1 hello world\n",
      "3 hello world\n",
      "5 hello world\n",
      "7 hello world\n",
      "9 hello world\n"
     ]
    }
   ],
   "source": [
    "for i in range(1,10,2):\n",
    "    print(i,\"hello world\")"
   ]
  },
  {
   "cell_type": "code",
   "execution_count": 5,
   "id": "c4101231",
   "metadata": {},
   "outputs": [
    {
     "name": "stdout",
     "output_type": "stream",
     "text": [
      "5 hello world\n",
      "4 hello world\n",
      "3 hello world\n",
      "2 hello world\n",
      "1 hello world\n"
     ]
    }
   ],
   "source": [
    "for i in range(5,0,-1):\n",
    "    print(i,\"hello world\")  #Decregement "
   ]
  },
  {
   "cell_type": "code",
   "execution_count": 6,
   "id": "c82e8bfe",
   "metadata": {},
   "outputs": [
    {
     "name": "stdout",
     "output_type": "stream",
     "text": [
      "Enter a = 5\n",
      "5\n",
      "10\n",
      "15\n",
      "20\n",
      "25\n",
      "30\n",
      "35\n",
      "40\n",
      "45\n",
      "50\n"
     ]
    }
   ],
   "source": [
    "a = int(input(\"Enter a = \"))\n",
    "for i in range(1,11):\n",
    "    print(a*i)"
   ]
  },
  {
   "cell_type": "code",
   "execution_count": 8,
   "id": "1552a392",
   "metadata": {},
   "outputs": [
    {
     "name": "stdout",
     "output_type": "stream",
     "text": [
      "Enter a = 5\n",
      "5 * 1 = 5\n",
      "5 * 2 = 10\n",
      "5 * 3 = 15\n",
      "5 * 4 = 20\n",
      "5 * 5 = 25\n",
      "5 * 6 = 30\n",
      "5 * 7 = 35\n",
      "5 * 8 = 40\n",
      "5 * 9 = 45\n",
      "5 * 10 = 50\n"
     ]
    }
   ],
   "source": [
    "a = int(input(\"Enter a = \"))\n",
    "for i in range(1,11):\n",
    "    print(a,\"*\",i,\"=\",a*i)"
   ]
  },
  {
   "cell_type": "code",
   "execution_count": 9,
   "id": "c15f0402",
   "metadata": {},
   "outputs": [
    {
     "name": "stdout",
     "output_type": "stream",
     "text": [
      "Enter a = 1\n",
      "Enter a = 2\n"
     ]
    }
   ],
   "source": [
    "for i in range(2):\n",
    "    a = int(input(\"Enter a = \"))"
   ]
  },
  {
   "cell_type": "code",
   "execution_count": 12,
   "id": "d01a7fa3",
   "metadata": {},
   "outputs": [
    {
     "name": "stdout",
     "output_type": "stream",
     "text": [
      "Enter a = 10\n"
     ]
    },
    {
     "ename": "NameError",
     "evalue": "name 'Running_balance' is not defined",
     "output_type": "error",
     "traceback": [
      "\u001b[1;31m---------------------------------------------------------------------------\u001b[0m",
      "\u001b[1;31mNameError\u001b[0m                                 Traceback (most recent call last)",
      "Cell \u001b[1;32mIn[12], line 5\u001b[0m\n\u001b[0;32m      3\u001b[0m a \u001b[38;5;241m=\u001b[39m \u001b[38;5;28mint\u001b[39m(\u001b[38;5;28minput\u001b[39m(\u001b[38;5;124m\"\u001b[39m\u001b[38;5;124mEnter a = \u001b[39m\u001b[38;5;124m\"\u001b[39m))\n\u001b[0;32m      4\u001b[0m Runing_balance \u001b[38;5;241m=\u001b[39m s \u001b[38;5;241m+\u001b[39m a\n\u001b[1;32m----> 5\u001b[0m \u001b[38;5;28mprint\u001b[39m(Running_balance)\n",
      "\u001b[1;31mNameError\u001b[0m: name 'Running_balance' is not defined"
     ]
    }
   ],
   "source": [
    "s = 0\n",
    "for i in range(12):\n",
    "    a = int(input(\"Enter a = \"))\n",
    "    Runing_balance = s + a\n",
    "    print(Running_balance)"
   ]
  },
  {
   "cell_type": "code",
   "execution_count": 13,
   "id": "905740b2",
   "metadata": {},
   "outputs": [
    {
     "name": "stdout",
     "output_type": "stream",
     "text": [
      "Enter a = 1\n",
      "1\n",
      "Enter a = 2\n",
      "3\n",
      "Enter a = 3\n",
      "6\n",
      "Enter a = 4\n",
      "10\n",
      "Enter a = 5\n",
      "15\n",
      "Enter a = 6\n",
      "21\n"
     ]
    }
   ],
   "source": [
    "s = 0\n",
    "for i in range(6):\n",
    "    a = int(input(\"Enter a = \"))\n",
    "    s = s + a\n",
    "    print(s)"
   ]
  },
  {
   "cell_type": "code",
   "execution_count": 1,
   "id": "3097a542",
   "metadata": {},
   "outputs": [
    {
     "name": "stdout",
     "output_type": "stream",
     "text": [
      "Enter a = 1\n",
      "0\n",
      "Enter a = 2\n",
      "0\n",
      "Enter a = 3\n",
      "0\n",
      "Enter a = 4\n",
      "0\n",
      "Enter a = 5\n",
      "0\n",
      "Enter a = 6\n",
      "0\n"
     ]
    }
   ],
   "source": [
    "opening_balance = 0\n",
    "for i in range(6):\n",
    "    a = int(input(\"Enter a = \"))\n",
    "    Runing_balance = opening_balance + a\n",
    "    print(opening_balance)"
   ]
  },
  {
   "cell_type": "code",
   "execution_count": 1,
   "id": "22340741",
   "metadata": {},
   "outputs": [
    {
     "name": "stdout",
     "output_type": "stream",
     "text": [
      "Enter a = Ram\n",
      "Ram\n",
      "\n",
      "Enter a = shyam \n",
      "Ram\n",
      "shyam \n",
      "\n",
      "Enter a = hari \n",
      "Ram\n",
      "shyam \n",
      "hari \n",
      "\n",
      "Enter a = Subarn\n",
      "Ram\n",
      "shyam \n",
      "hari \n",
      "Subarn\n",
      "\n",
      "Enter a = Subarna\n",
      "Ram\n",
      "shyam \n",
      "hari \n",
      "Subarn\n",
      "Subarna\n",
      "\n"
     ]
    }
   ],
   "source": [
    "# s = str()\n",
    "s = \"\"\n",
    "for i in range(5):\n",
    "    a = input(\"Enter a = \")\n",
    "    s = s + a + \"\\n\"\n",
    "print(s)"
   ]
  },
  {
   "cell_type": "code",
   "execution_count": 3,
   "id": "91e2a3ae",
   "metadata": {},
   "outputs": [
    {
     "name": "stdout",
     "output_type": "stream",
     "text": [
      "Enter name = Subarn\n",
      "Enter phone = 98\n",
      "Enter name = ram\n",
      "Enter phone = 12\n",
      "Enter name = yash\n",
      "Enter phone = 35\n",
      "Enter name = hari\n",
      "Enter phone = 658\n",
      "Enter name = name\n",
      "Enter phone = 51\n",
      "Subarn98\n",
      "ram12\n",
      "yash35\n",
      "hari658\n",
      "name51\n",
      "\n"
     ]
    }
   ],
   "source": [
    "s = \"\"\n",
    "for i in range(5):\n",
    "    name = input(\"Enter name = \")\n",
    "    phone = int(input(\"Enter phone = \"))\n",
    "    s = s + name + str(phone) + \"\\n\"\n",
    "print(s)"
   ]
  },
  {
   "cell_type": "code",
   "execution_count": 4,
   "id": "6f878e8d",
   "metadata": {},
   "outputs": [
    {
     "name": "stdout",
     "output_type": "stream",
     "text": [
      "Enter n = 2\n",
      "Enter name = Subarna\n",
      "Enter phone = 9861\n",
      "Enter name = hari\n",
      "Enter phone = 3981\n",
      "Subarna 9861\n",
      "hari 3981\n",
      "\n"
     ]
    }
   ],
   "source": [
    "s = \"\"\n",
    "n = int(input(\"Enter n = \"))\n",
    "for i in range(n):\n",
    "    name = input(\"Enter name = \")\n",
    "    phone = int(input(\"Enter phone = \"))\n",
    "    s = s + name + \" \" + str(phone) + \"\\n\"\n",
    "print(s)"
   ]
  },
  {
   "cell_type": "code",
   "execution_count": null,
   "id": "d0b207aa",
   "metadata": {},
   "outputs": [],
   "source": [
    "# name price quantity total all_total"
   ]
  },
  {
   "cell_type": "code",
   "execution_count": 11,
   "id": "44434a29",
   "metadata": {},
   "outputs": [
    {
     "name": "stdout",
     "output_type": "stream",
     "text": [
      "Enter n = 1\n",
      "Enter name = Chips\n",
      "Enter price = 100\n",
      "Enter qty = 10.5\n",
      "Chips 100 10.51050.0\n",
      "\n",
      "1050.0\n"
     ]
    }
   ],
   "source": [
    "# bill = Str()\n",
    "bill = \"\"\n",
    "all_total = 0\n",
    "n = int(input(\"Enter n = \"))\n",
    "for i in range(n):\n",
    "    name = input(\"Enter name = \")\n",
    "    price = int(input(\"Enter price = \"))\n",
    "    qty = float(input(\"Enter qty = \"))\n",
    "    total = price * qty\n",
    "    bill = bill + name + \" \"+ str(price) + \" \"+ str(qty) + str(total) + \"\\n\"\n",
    "    all_total = all_total + total\n",
    "print(bill)\n",
    "print(all_total)"
   ]
  },
  {
   "cell_type": "code",
   "execution_count": 1,
   "id": "69604da6",
   "metadata": {},
   "outputs": [
    {
     "name": "stdout",
     "output_type": "stream",
     "text": [
      "Enter n = 3\n",
      "Enter name = chips\n",
      "Enter price = 10\n",
      "Enter qty = 2.5\n",
      "Enter name = Subarna\n",
      "Enter price = 20\n",
      "Enter qty = 1.5\n",
      "Enter name = nepal\n",
      "Enter price = 5\n",
      "Enter qty = 1.5\n",
      "chips 10 2.5 25.0\n",
      "Subarna 20 1.5 30.0\n",
      "nepal 5 1.5 7.5\n",
      "\n",
      "62.5\n"
     ]
    }
   ],
   "source": [
    "# bill = Str()\n",
    "bill = \"\"\n",
    "all_total = 0\n",
    "n = int(input(\"Enter n = \"))\n",
    "for i in range(n):\n",
    "    name = input(\"Enter name = \")\n",
    "    price = int(input(\"Enter price = \"))\n",
    "    qty = float(input(\"Enter qty = \"))\n",
    "    total = price * qty\n",
    "    bill = bill + name + \" \"+ str(price) + \" \"+ str(qty) + \" \" +str(total) + \"\\n\"\n",
    "    all_total = all_total + total\n",
    "print(bill)\n",
    "print(all_total)"
   ]
  },
  {
   "cell_type": "code",
   "execution_count": 4,
   "id": "4ee0de98",
   "metadata": {},
   "outputs": [
    {
     "name": "stdout",
     "output_type": "stream",
     "text": [
      "Enter n = 100\n",
      "4950\n"
     ]
    }
   ],
   "source": [
    "s = 0\n",
    "n = int(input(\"Enter n = \"))\n",
    "for i in range(n):\n",
    "    s = s + i\n",
    "print(s)"
   ]
  },
  {
   "cell_type": "code",
   "execution_count": 8,
   "id": "df01c434",
   "metadata": {},
   "outputs": [
    {
     "name": "stdout",
     "output_type": "stream",
     "text": [
      "Enter n = 5\n",
      "120\n"
     ]
    }
   ],
   "source": [
    "# factorial 1,2,3,4,5  #5!\n",
    "s = 1\n",
    "n = int(input(\"Enter n = \"))\n",
    "for i in range(1,n+1):\n",
    "    s = s * i\n",
    "print(s)"
   ]
  },
  {
   "cell_type": "code",
   "execution_count": 12,
   "id": "b208ee7e",
   "metadata": {},
   "outputs": [
    {
     "name": "stdout",
     "output_type": "stream",
     "text": [
      "9\n"
     ]
    },
    {
     "ename": "TypeError",
     "evalue": "can't multiply sequence by non-int of type 'NoneType'",
     "output_type": "error",
     "traceback": [
      "\u001b[1;31m---------------------------------------------------------------------------\u001b[0m",
      "\u001b[1;31mTypeError\u001b[0m                                 Traceback (most recent call last)",
      "Cell \u001b[1;32mIn[12], line 3\u001b[0m\n\u001b[0;32m      1\u001b[0m n \u001b[38;5;241m=\u001b[39m \u001b[38;5;241m10\u001b[39m\n\u001b[0;32m      2\u001b[0m \u001b[38;5;28;01mfor\u001b[39;00m i \u001b[38;5;129;01min\u001b[39;00m \u001b[38;5;28mrange\u001b[39m(\u001b[38;5;241m1\u001b[39m,n):\n\u001b[1;32m----> 3\u001b[0m     \u001b[38;5;28mprint\u001b[39m((n\u001b[38;5;241m-\u001b[39m\u001b[38;5;241m1\u001b[39m))\u001b[38;5;241m*\u001b[39m\u001b[38;5;124m\"\u001b[39m\u001b[38;5;124m \u001b[39m\u001b[38;5;124m\"\u001b[39m,(\u001b[38;5;241m2\u001b[39m\u001b[38;5;241m-\u001b[39mi\u001b[38;5;241m-\u001b[39m\u001b[38;5;241m1\u001b[39m)\u001b[38;5;241m*\u001b[39m \u001b[38;5;124m\"\u001b[39m\u001b[38;5;124mo\u001b[39m\u001b[38;5;124m\"\u001b[39m\n",
      "\u001b[1;31mTypeError\u001b[0m: can't multiply sequence by non-int of type 'NoneType'"
     ]
    }
   ],
   "source": [
    "n = 10\n",
    "for i in range(1,n):\n",
    "    print((n-1))*\" \",(2-i-1)* \"o\""
   ]
  },
  {
   "cell_type": "code",
   "execution_count": 2,
   "id": "215cc5d5",
   "metadata": {},
   "outputs": [
    {
     "name": "stdout",
     "output_type": "stream",
     "text": [
      "H\n",
      "e\n",
      "l\n",
      "l\n",
      "o\n",
      " \n",
      "w\n",
      "o\n",
      "r\n",
      "l\n",
      "d\n"
     ]
    }
   ],
   "source": [
    "# loop in string \n",
    "a = \"Hello world\"\n",
    "for i in a:\n",
    "    print(i)"
   ]
  },
  {
   "cell_type": "code",
   "execution_count": 3,
   "id": "5e9a09d4",
   "metadata": {},
   "outputs": [
    {
     "name": "stdout",
     "output_type": "stream",
     "text": [
      "H hello world\n",
      "e hello world\n",
      "l hello world\n",
      "l hello world\n",
      "o hello world\n",
      "  hello world\n",
      "w hello world\n",
      "o hello world\n",
      "r hello world\n",
      "l hello world\n",
      "d hello world\n"
     ]
    }
   ],
   "source": [
    "a = \"Hello world\"\n",
    "for i in a:\n",
    "    print(i,\"hello world\")"
   ]
  },
  {
   "cell_type": "code",
   "execution_count": 6,
   "id": "ea9f9be0",
   "metadata": {},
   "outputs": [
    {
     "name": "stdout",
     "output_type": "stream",
     "text": [
      "H__e__l__l__o__ __w__o__r__l__d__"
     ]
    }
   ],
   "source": [
    "# end = \" \"  yo use garda horizental aauxa \n",
    "\n",
    "a = \"Hello world\"\n",
    "for i in a:\n",
    "    print(i,end = \"\")"
   ]
  },
  {
   "cell_type": "code",
   "execution_count": 10,
   "id": "422063f7",
   "metadata": {},
   "outputs": [
    {
     "name": "stdout",
     "output_type": "stream",
     "text": [
      "Helloworld"
     ]
    }
   ],
   "source": [
    "a = \"Hello world\"\n",
    "for i in a:\n",
    "    if i != \" \":\n",
    "        print(i,end = \"\")"
   ]
  },
  {
   "cell_type": "code",
   "execution_count": 11,
   "id": "f4fe809c",
   "metadata": {},
   "outputs": [
    {
     "name": "stdout",
     "output_type": "stream",
     "text": [
      "0\n",
      "2\n",
      "4\n",
      "6\n",
      "8\n",
      "10\n",
      "12\n",
      "14\n",
      "16\n",
      "18\n",
      "20\n"
     ]
    }
   ],
   "source": [
    "# even number\n",
    "for i in range(0,21):\n",
    "    if i%2==0:\n",
    "        print(i)"
   ]
  },
  {
   "cell_type": "code",
   "execution_count": 13,
   "id": "961965c1",
   "metadata": {},
   "outputs": [
    {
     "name": "stdout",
     "output_type": "stream",
     "text": [
      "1\n",
      "3\n",
      "5\n",
      "7\n",
      "9\n",
      "11\n",
      "13\n",
      "15\n",
      "17\n",
      "19\n"
     ]
    }
   ],
   "source": [
    "# odd number\n",
    "for i in range(0,21):\n",
    "    if i%2!=0:\n",
    "        print(i)"
   ]
  },
  {
   "cell_type": "code",
   "execution_count": 18,
   "id": "8923e652",
   "metadata": {},
   "outputs": [
    {
     "name": "stdout",
     "output_type": "stream",
     "text": [
      "Hello world I am python"
     ]
    }
   ],
   "source": [
    "a = \"Hello world. I am python.!\"\n",
    "for i in a:\n",
    "    if i != \".\" and i!= \"!\":\n",
    "        print(i,end = \"\")"
   ]
  },
  {
   "cell_type": "code",
   "execution_count": null,
   "id": "ed998cbe",
   "metadata": {},
   "outputs": [],
   "source": [
    "# While loop\n",
    "# control Statement\n",
    "# break'\n",
    "# continue\n",
    "# pass\n"
   ]
  },
  {
   "cell_type": "code",
   "execution_count": null,
   "id": "2d9392e0",
   "metadata": {},
   "outputs": [],
   "source": [
    "# Break Statement"
   ]
  },
  {
   "cell_type": "code",
   "execution_count": 2,
   "id": "22a7bfb1",
   "metadata": {},
   "outputs": [
    {
     "name": "stdout",
     "output_type": "stream",
     "text": [
      "0\n",
      "1\n",
      "2\n",
      "3\n",
      "4\n"
     ]
    }
   ],
   "source": [
    "for i in range(10):\n",
    "    if i ==5:\n",
    "        break\n",
    "    print(i)"
   ]
  },
  {
   "cell_type": "code",
   "execution_count": 5,
   "id": "0a5f132e",
   "metadata": {},
   "outputs": [
    {
     "name": "stdout",
     "output_type": "stream",
     "text": [
      "0 1 2 3 4 6 7 8 9 "
     ]
    }
   ],
   "source": [
    "for i in range(10):\n",
    "    if i ==5:\n",
    "        continue\n",
    "    print(i, end =\" \")"
   ]
  },
  {
   "cell_type": "code",
   "execution_count": 13,
   "id": "6b2879bc",
   "metadata": {},
   "outputs": [
    {
     "name": "stdout",
     "output_type": "stream",
     "text": [
      "Hello"
     ]
    }
   ],
   "source": [
    "a = \"Hello world\"\n",
    "for i in a:\n",
    "    if i == \" \":\n",
    "        break\n",
    "    print(i, end = \"\")"
   ]
  },
  {
   "cell_type": "code",
   "execution_count": 14,
   "id": "bc72a8cc",
   "metadata": {},
   "outputs": [
    {
     "name": "stdout",
     "output_type": "stream",
     "text": [
      "Hello world"
     ]
    }
   ],
   "source": [
    "a = \"Hello world. I am python\"\n",
    "for i in a:\n",
    "    if i == \".\":\n",
    "        break\n",
    "    print(i, end = \"\")"
   ]
  },
  {
   "cell_type": "code",
   "execution_count": 15,
   "id": "4cfd62fb",
   "metadata": {},
   "outputs": [
    {
     "name": "stdout",
     "output_type": "stream",
     "text": [
      "Hello world"
     ]
    }
   ],
   "source": [
    "a = \"Hello world. I am python\"\n",
    "for i in a:\n",
    "    if i == \".\":\n",
    "        break\n",
    "    print(i, end = \"\")"
   ]
  },
  {
   "cell_type": "code",
   "execution_count": null,
   "id": "b664de8d",
   "metadata": {},
   "outputs": [],
   "source": [
    "# Pass statement\n",
    "# Means Do not thing "
   ]
  },
  {
   "cell_type": "code",
   "execution_count": 16,
   "id": "0e382cfd",
   "metadata": {},
   "outputs": [],
   "source": [
    "a = 5\n",
    "if a == 5:\n",
    "    pass"
   ]
  },
  {
   "cell_type": "code",
   "execution_count": null,
   "id": "8f8c33ac",
   "metadata": {},
   "outputs": [],
   "source": [
    " #  for else loop \n"
   ]
  },
  {
   "cell_type": "code",
   "execution_count": 5,
   "id": "0949b867",
   "metadata": {},
   "outputs": [
    {
     "name": "stdout",
     "output_type": "stream",
     "text": [
      "Enter n = 2\n",
      "The value of n>2\n"
     ]
    }
   ],
   "source": [
    "n = int(input(\"Enter n = \"))\n",
    "if n >2:\n",
    "    for i in range(2,n):\n",
    "        if n%i==0:\n",
    "            print(\"The number is composite\")\n",
    "            break\n",
    "    else:\n",
    "        print(\"The number is prime\")\n",
    "else:\n",
    "    print(\"The value of n>2\")"
   ]
  },
  {
   "cell_type": "code",
   "execution_count": null,
   "id": "7735e650",
   "metadata": {},
   "outputs": [],
   "source": [
    "# While loop"
   ]
  },
  {
   "cell_type": "code",
   "execution_count": null,
   "id": "d440de0a",
   "metadata": {},
   "outputs": [],
   "source": [
    "# while True:\n",
    "#     print(\"Hello world\")\n",
    "    Infinity time runs"
   ]
  },
  {
   "cell_type": "code",
   "execution_count": 6,
   "id": "18e340ee",
   "metadata": {},
   "outputs": [
    {
     "name": "stdout",
     "output_type": "stream",
     "text": [
      "Hello world\n",
      "Hello world\n",
      "Hello world\n",
      "Hello world\n",
      "Hello world\n"
     ]
    }
   ],
   "source": [
    "a = 0\n",
    "while a<5:\n",
    "    print(\"Hello world\")\n",
    "    a = a + 1"
   ]
  },
  {
   "cell_type": "code",
   "execution_count": 10,
   "id": "29ac9011",
   "metadata": {},
   "outputs": [
    {
     "name": "stdout",
     "output_type": "stream",
     "text": [
      "0 Hello world\n",
      "1 Hello world\n",
      "2 Hello world\n",
      "3 Hello world\n",
      "4 Hello world\n",
      "5 Hello world\n"
     ]
    }
   ],
   "source": [
    "a = 0\n",
    "while a<=5:\n",
    "    print(a, \"Hello world\")\n",
    "    a = a + 1"
   ]
  },
  {
   "cell_type": "code",
   "execution_count": 11,
   "id": "a0fecb60",
   "metadata": {},
   "outputs": [
    {
     "name": "stdout",
     "output_type": "stream",
     "text": [
      "5 Hello world\n",
      "4 Hello world\n",
      "3 Hello world\n",
      "2 Hello world\n",
      "1 Hello world\n",
      "0 Hello world\n"
     ]
    }
   ],
   "source": [
    "a = 5\n",
    "while a>=0:\n",
    "    print(a, \"Hello world\")\n",
    "    a-=1"
   ]
  },
  {
   "cell_type": "code",
   "execution_count": 13,
   "id": "c80614d4",
   "metadata": {},
   "outputs": [
    {
     "name": "stdout",
     "output_type": "stream",
     "text": [
      "Enter a = 10\n",
      "10 * 1 = 10\n",
      "10 * 2 = 10\n",
      "10 * 3 = 10\n",
      "10 * 4 = 10\n",
      "10 * 5 = 10\n",
      "10 * 6 = 10\n",
      "10 * 7 = 10\n",
      "10 * 8 = 10\n",
      "10 * 9 = 10\n",
      "10 * 10 = 10\n"
     ]
    }
   ],
   "source": [
    "i = 1\n",
    "a = int(input(\"Enter a = \"))\n",
    "while i<=10:\n",
    "    print(a,\"*\",i,\"=\",a*1)\n",
    "    i = i+1\n"
   ]
  },
  {
   "cell_type": "code",
   "execution_count": 1,
   "id": "a14aa9db",
   "metadata": {},
   "outputs": [
    {
     "name": "stdout",
     "output_type": "stream",
     "text": [
      "Enter a = 1\n",
      "1\n",
      "Enter a = 2\n",
      "3\n",
      "Enter a = 3\n",
      "6\n",
      "Enter a = 4\n",
      "10\n",
      "Enter a = 5\n",
      "15\n"
     ]
    }
   ],
   "source": [
    "i = 0\n",
    "s = 0\n",
    "while i<5:\n",
    "    a = int(input(\"Enter a = \"))\n",
    "    s = s + a\n",
    "    i = i + 1\n",
    "    print(s)"
   ]
  },
  {
   "cell_type": "code",
   "execution_count": null,
   "id": "2694ad19",
   "metadata": {},
   "outputs": [],
   "source": [
    "i = 0\n",
    "bill = \"\"\n",
    "all_total = 0\n",
    "n = int(input(\"Enter n = \"))\n",
    "while i<n:\n",
    "for i in range(n):\n",
    "    name = input(\"Enter name = \")\n",
    "    price = int(input(\"Enter price = \"))\n",
    "    qty = float(input(\"Enter qty = \"))\n",
    "    total = price * qty\n",
    "    bill = bill + name + \" \"+ str(price) + \" \"+ str(qty) + \" \" +str(total) + \"\\n\"\n",
    "    all_total = all_total + total\n",
    "    i = i +1\n",
    "print(bill)\n",
    "print(all_total)"
   ]
  },
  {
   "cell_type": "code",
   "execution_count": 3,
   "id": "1c2192bb",
   "metadata": {},
   "outputs": [
    {
     "name": "stdout",
     "output_type": "stream",
     "text": [
      "Enter a = 5\n"
     ]
    }
   ],
   "source": [
    "i = 0\n",
    "s = 1\n",
    "while i<5:\n",
    "    a = int(input(\"Enter a = \"))\n",
    "    i = i + 1\n",
    "    s = s + a\n",
    "    print(s)"
   ]
  },
  {
   "cell_type": "code",
   "execution_count": null,
   "id": "7d860353",
   "metadata": {},
   "outputs": [],
   "source": [
    "n = int(input(\"Enter n = \"))\n",
    "if n >2:\n",
    "    for i in range(2,n):\n",
    "        if n%i==0:\n",
    "            print(\"The number is composite\")\n",
    "            break\n",
    "    else:\n",
    "        print(\"The number is prime\")\n",
    "else:\n",
    "    print(\"The value of n>2\")"
   ]
  },
  {
   "cell_type": "code",
   "execution_count": 5,
   "id": "f7f26265",
   "metadata": {},
   "outputs": [
    {
     "name": "stdout",
     "output_type": "stream",
     "text": [
      "1\n",
      "2\n",
      "3\n",
      "4\n",
      "5\n"
     ]
    }
   ],
   "source": [
    "i = 0\n",
    "while i<5:\n",
    "    if i ==5:\n",
    "        break\n",
    "    i = i+1\n",
    "    print(i)"
   ]
  },
  {
   "cell_type": "code",
   "execution_count": 8,
   "id": "ccfc00cb",
   "metadata": {},
   "outputs": [
    {
     "name": "stdout",
     "output_type": "stream",
     "text": [
      "1\n",
      "2\n",
      "3\n",
      "4\n",
      "5\n"
     ]
    }
   ],
   "source": [
    "i = "
   ]
  },
  {
   "cell_type": "code",
   "execution_count": null,
   "id": "acd44e49",
   "metadata": {},
   "outputs": [],
   "source": []
  },
  {
   "cell_type": "code",
   "execution_count": null,
   "id": "3dc00d60",
   "metadata": {},
   "outputs": [],
   "source": []
  },
  {
   "cell_type": "code",
   "execution_count": null,
   "id": "33b496be",
   "metadata": {},
   "outputs": [],
   "source": []
  },
  {
   "cell_type": "code",
   "execution_count": null,
   "id": "42d133a8",
   "metadata": {},
   "outputs": [],
   "source": []
  },
  {
   "cell_type": "code",
   "execution_count": null,
   "id": "5b2a6e66",
   "metadata": {},
   "outputs": [],
   "source": []
  }
 ],
 "metadata": {
  "kernelspec": {
   "display_name": "Python 3 (ipykernel)",
   "language": "python",
   "name": "python3"
  },
  "language_info": {
   "codemirror_mode": {
    "name": "ipython",
    "version": 3
   },
   "file_extension": ".py",
   "mimetype": "text/x-python",
   "name": "python",
   "nbconvert_exporter": "python",
   "pygments_lexer": "ipython3",
   "version": "3.11.5"
  }
 },
 "nbformat": 4,
 "nbformat_minor": 5
}
